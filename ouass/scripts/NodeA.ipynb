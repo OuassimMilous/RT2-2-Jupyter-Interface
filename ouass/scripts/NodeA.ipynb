{
 "cells": [
  {
   "cell_type": "markdown",
   "id": "8ca30a62",
   "metadata": {},
   "source": [
    "## BSMLH"
   ]
  },
  {
   "cell_type": "code",
   "execution_count": 1,
   "id": "d1862db5",
   "metadata": {},
   "outputs": [],
   "source": [
    "#!/usr/bin/env python\n",
    "\n",
    "from __future__ import print_function\n",
    "import sys    \n",
    "import rospy\n",
    "import actionlib\n",
    "from ouass.msg import PlanningAction, PlanningGoal\n",
    "from ouass.msg import Data\n",
    "from ouass.msg import RobotTarget\n",
    "from nav_msgs.msg import Odometry\n",
    "from geometry_msgs.msg import PoseStamped\n",
    "import time\n",
    "import ipywidgets as widgets\n",
    "from IPython.display import display, clear_output\n"
   ]
  },
  {
   "cell_type": "markdown",
   "id": "9e1c23f8",
   "metadata": {},
   "source": [
    "# title\n",
    "text"
   ]
  },
  {
   "cell_type": "code",
   "execution_count": 2,
   "id": "4373b0c1",
   "metadata": {},
   "outputs": [],
   "source": [
    "# Create text input widgets for user input\n",
    "x_text = widgets.FloatText(description=\"X Coordinate:\")\n",
    "y_text = widgets.FloatText(description=\"Y Coordinate:\")\n",
    "buttonChange = widgets.Button(description=\"Change Target\")\n",
    "buttonCancel = widgets.Button(description=\"Cancel Target\")\n",
    "buttonSubmit = widgets.Button(description=\"Submit\")\n"
   ]
  },
  {
   "cell_type": "markdown",
   "id": "eaca7915",
   "metadata": {},
   "source": [
    "# title\n",
    "text"
   ]
  },
  {
   "cell_type": "code",
   "execution_count": 3,
   "id": "bdd26991",
   "metadata": {},
   "outputs": [],
   "source": [
    "def cancel(b):\n",
    "    client.cancel_goal()\n",
    "    rospy.loginfo(\"Goal has been canceled\\n\")\n",
    "    clear_output()\n",
    "    display(buttonChange, buttonCancel)\n",
    "    print(\"Goal has been canceled\\n\")\n"
   ]
  },
  {
   "cell_type": "markdown",
   "id": "f765ddb7",
   "metadata": {},
   "source": [
    "# title\n",
    "text"
   ]
  },
  {
   "cell_type": "code",
   "execution_count": 4,
   "id": "553c31c3",
   "metadata": {},
   "outputs": [],
   "source": [
    "def change_target(b):\n",
    "    clear_output()\n",
    "    display(x_text, y_text, buttonSubmit)\n"
   ]
  },
  {
   "cell_type": "markdown",
   "id": "e3c62e4f",
   "metadata": {},
   "source": [
    "# title\n",
    "text"
   ]
  },
  {
   "cell_type": "code",
   "execution_count": 5,
   "id": "455f2213",
   "metadata": {},
   "outputs": [],
   "source": [
    "def on_submit_clicked(b):\n",
    "    x = x_text.value\n",
    "    y = y_text.value\n",
    "\n",
    "    # Publishing the last target for reference\n",
    "    last_target_msg = RobotTarget()\n",
    "    last_target_msg.target_x = x\n",
    "    last_target_msg.target_y = y\n",
    "    \n",
    "    pub2.publish(last_target_msg)\n",
    "    \n",
    "    # Wait for the action server\n",
    "    client.wait_for_server()\n",
    "    \n",
    "    # Initializing the goal  \n",
    "    goal = PoseStamped()\n",
    "    goal.pose.position.x = x\n",
    "    goal.pose.position.y = y\n",
    "    \n",
    "    # Setting the goal\n",
    "    goal = PlanningGoal(goal)\n",
    "    \n",
    "    # Sending the goal to the action server    \n",
    "    client.send_goal(goal)\n",
    "    \n",
    "    clear_output()\n",
    "    display(buttonChange, buttonCancel)\n",
    "    print(f\"New goal has been set, x: {x}, y: {y}\\n\")\n"
   ]
  },
  {
   "cell_type": "markdown",
   "id": "d760ad3a",
   "metadata": {},
   "source": [
    "# title\n",
    "text"
   ]
  },
  {
   "cell_type": "code",
   "execution_count": 6,
   "id": "f996ca5e",
   "metadata": {},
   "outputs": [],
   "source": [
    "def subscriber_callback(data):\n",
    "    # Declaring the custom message\n",
    "    msg = Data()\n",
    "    \n",
    "    # Getting the current positions and velocities\n",
    "    msg.vel_x = data.twist.twist.linear.x \n",
    "    msg.vel_y = data.twist.twist.linear.y\n",
    "    msg.position_x = data.pose.pose.position.x \n",
    "    msg.position_y = data.pose.pose.position.y \n",
    "\n",
    "    # Publishing the message\n",
    "    pub.publish(msg)\n"
   ]
  },
  {
   "cell_type": "markdown",
   "id": "4092b1f1",
   "metadata": {},
   "source": [
    "# title\n",
    "text"
   ]
  },
  {
   "cell_type": "code",
   "execution_count": 7,
   "id": "c1f0cf8c",
   "metadata": {},
   "outputs": [],
   "source": [
    "def main():\n",
    "    clear_output()\n",
    "    display(buttonChange, buttonCancel)\n"
   ]
  },
  {
   "cell_type": "markdown",
   "id": "291ed391",
   "metadata": {},
   "source": [
    "# title\n",
    "text"
   ]
  },
  {
   "cell_type": "code",
   "execution_count": 8,
   "id": "c12dd1e8",
   "metadata": {},
   "outputs": [
    {
     "data": {
      "application/vnd.jupyter.widget-view+json": {
       "model_id": "0717532359a74f3f867cb26914b0a6c9",
       "version_major": 2,
       "version_minor": 0
      },
      "text/plain": [
       "Button(description='Change Target', style=ButtonStyle())"
      ]
     },
     "metadata": {},
     "output_type": "display_data"
    },
    {
     "data": {
      "application/vnd.jupyter.widget-view+json": {
       "model_id": "5d20c5f7a6fc4306bef2c3a5c23a41d6",
       "version_major": 2,
       "version_minor": 0
      },
      "text/plain": [
       "Button(description='Cancel Target', style=ButtonStyle())"
      ]
     },
     "metadata": {},
     "output_type": "display_data"
    },
    {
     "name": "stdout",
     "output_type": "stream",
     "text": [
      "New goal has been set, x: 1.0, y: 2.0\n",
      "\n"
     ]
    }
   ],
   "source": [
    "# Node initialization\n",
    "rospy.init_node('UI', anonymous=True)\n",
    "\n",
    "        # Client initialization and setting up the server\n",
    "client = actionlib.SimpleActionClient('/reaching_goal', PlanningAction)\n",
    "\n",
    "        # Subscribers\n",
    "sub = rospy.Subscriber(\"/odom\", Odometry, subscriber_callback)\n",
    "\n",
    "        # Publishers\n",
    "pub = rospy.Publisher(\"/posvelo\", Data, queue_size=10)\n",
    "pub2 = rospy.Publisher('last_target', RobotTarget, queue_size=10)\n",
    "\n",
    "        # Widget button click event handlers\n",
    "buttonChange.on_click(change_target)\n",
    "buttonCancel.on_click(cancel)\n",
    "buttonSubmit.on_click(on_submit_clicked)\n",
    "\n",
    "\n",
    "main()\n"
   ]
  },
  {
   "cell_type": "markdown",
   "id": "f0b9c45f",
   "metadata": {},
   "source": [
    "# Robot and Target Positions\n",
    "text"
   ]
  },
  {
   "cell_type": "code",
   "execution_count": null,
   "id": "fa21372f",
   "metadata": {},
   "outputs": [],
   "source": []
  },
  {
   "cell_type": "markdown",
   "id": "79764b6a",
   "metadata": {},
   "source": [
    "# title\n",
    "text"
   ]
  },
  {
   "cell_type": "code",
   "execution_count": null,
   "id": "2b8e2566",
   "metadata": {},
   "outputs": [],
   "source": []
  },
  {
   "cell_type": "code",
   "execution_count": null,
   "id": "ed567e6f",
   "metadata": {},
   "outputs": [],
   "source": []
  }
 ],
 "metadata": {
  "kernelspec": {
   "display_name": "Python 3 (ipykernel)",
   "language": "python",
   "name": "python3"
  },
  "language_info": {
   "codemirror_mode": {
    "name": "ipython",
    "version": 3
   },
   "file_extension": ".py",
   "mimetype": "text/x-python",
   "name": "python",
   "nbconvert_exporter": "python",
   "pygments_lexer": "ipython3",
   "version": "3.8.5"
  }
 },
 "nbformat": 4,
 "nbformat_minor": 5
}
