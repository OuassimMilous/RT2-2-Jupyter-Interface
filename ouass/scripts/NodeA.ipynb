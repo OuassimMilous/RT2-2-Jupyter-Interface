{
 "cells": [
  {
   "cell_type": "markdown",
   "id": "8ca30a62",
   "metadata": {},
   "source": [
    "# NODE A - UI\n",
    "\n",
    "This notebook is designed to create a User Interface (UI) for interacting with a robot in a simulated environment. The UI allows users to set new targets for the robot, cancel goals, and visualize the robot's movements and goal statuses.\n",
    "\n",
    "\n",
    "## Import necessary modules\n",
    "\n",
    "We start by importing the necessary libraries for ROS, actionlib (for goal management), custom message types (ouass.msg), and visualization tools such as ipywidgets for the UI and matplotlib for plotting."
   ]
  },
  {
   "cell_type": "code",
   "execution_count": 1,
   "id": "d1862db5",
   "metadata": {},
   "outputs": [],
   "source": [
    "from __future__ import print_function\n",
    "import sys    \n",
    "import rospy\n",
    "import actionlib\n",
    "from ouass.msg import PlanningAction, PlanningGoal\n",
    "from ouass.msg import RobotTarget\n",
    "from ouass.msg import Data\n",
    "from nav_msgs.msg import Odometry\n",
    "from geometry_msgs.msg import PoseStamped\n",
    "import time\n",
    "import ipywidgets as widgets\n",
    "from IPython.display import display, clear_output\n",
    "import matplotlib.pyplot as plt\n",
    "import numpy as np\n",
    "from matplotlib.animation import FuncAnimation"
   ]
  },
  {
   "cell_type": "markdown",
   "id": "fc268f25",
   "metadata": {},
   "source": [
    "## Enable interactive plotting in Jupyter Notebook"
   ]
  },
  {
   "cell_type": "code",
   "execution_count": 2,
   "id": "1b3e10ae",
   "metadata": {},
   "outputs": [],
   "source": [
    "%matplotlib widget"
   ]
  },
  {
   "cell_type": "markdown",
   "id": "9e1c23f8",
   "metadata": {},
   "source": [
    "## Initialize the ROS node, widgets, and variables\n",
    "\n",
    "Here, we initialize the ROS node named 'UI' and set up some global variables:\n",
    "\n",
    "- goalz: List to keep track of successful and failed goals.\n",
    "- flag, changed: Variables to manage the state of goals and updates."
   ]
  },
  {
   "cell_type": "code",
   "execution_count": 3,
   "id": "4373b0c1",
   "metadata": {},
   "outputs": [],
   "source": [
    "rospy.init_node('UI', anonymous=True)\n",
    "goalz=[0,0]  # Array to keep track of goals: [unreached, reached]\n",
    "flag = True\n",
    "changed = False"
   ]
  },
  {
   "cell_type": "markdown",
   "id": "0a735d29",
   "metadata": {},
   "source": [
    "## Setting Up Widgets\n",
    "\n",
    "These widgets provide a UI for users to interact with the robot:\n",
    "\n",
    "- x_text and y_text are for inputting new target coordinates.\n",
    "- buttonChange, buttonCancel, and buttonSubmit are buttons for changing, canceling, and submitting goals respectively.\n",
    "- text_reached and text_canceled display the number of reached and unreached targets.\n",
    "- target_txt is a horizontal box containing the labels and text displays."
   ]
  },
  {
   "cell_type": "code",
   "execution_count": 4,
   "id": "95578a76",
   "metadata": {},
   "outputs": [],
   "source": [
    "x_text = widgets.FloatText(description=\"X Coordinate:\")\n",
    "y_text = widgets.FloatText(description=\"Y Coordinate:\")\n",
    "buttonChange = widgets.Button(description=\"Change Target\")\n",
    "buttonCancel = widgets.Button(description=\"Cancel Target\")\n",
    "buttonSubmit = widgets.Button(description=\"Submit\")\n",
    "\n",
    "text_reached = widgets.Label()\n",
    "text_canceled = widgets.Label()\n",
    "\n",
    "label_reached = widgets.Label(value=\"Reached Targets:\")\n",
    "label_canceled = widgets.Label(value=\"Unreached Targets:\")\n",
    "\n",
    "target_txt = widgets.HBox([label_reached, text_reached, label_canceled, text_canceled])"
   ]
  },
  {
   "cell_type": "markdown",
   "id": "eaca7915",
   "metadata": {},
   "source": [
    "## Widget update functions\n",
    "\n",
    "These functions handle user interactions with the widgets:\n",
    "\n",
    "- cancel(b): Cancels the current goal and updates the display.\n",
    "- change_target(b): Prepares the UI for setting a new target.\n",
    "- on_submit_clicked(b): Submits the new target coordinates, updates the goal counters, and publishes the new target.\n",
    "- update_targets_txt(reached, canceled): Updates the text widgets showing the number of reached and unreached targets."
   ]
  },
  {
   "cell_type": "code",
   "execution_count": 5,
   "id": "bdd26991",
   "metadata": {},
   "outputs": [],
   "source": [
    "def cancel(b):\n",
    "    client.cancel_goal()\n",
    "    rospy.loginfo(\"Goal has been canceled\\n\")\n",
    "    clear_output()\n",
    "    display(buttonChange, buttonCancel)\n",
    "    print(\"Goal has been canceled\\n\")\n",
    "\n",
    "def change_target(b):\n",
    "    clear_output()\n",
    "    display(x_text, y_text, buttonSubmit)\n",
    "\n",
    "def on_submit_clicked(b):\n",
    "    global goalz\n",
    "    x = x_text.value\n",
    "    y = y_text.value\n",
    "    \n",
    "    goalz[0] += 1\n",
    "    vis2.update_plot()\n",
    "    \n",
    "    last_target_msg = RobotTarget()\n",
    "    last_target_msg.target_x = x\n",
    "    last_target_msg.target_y = y\n",
    "    \n",
    "    pub.publish(last_target_msg)\n",
    "    \n",
    "    vis.last_targetcallback(last_target_msg)\n",
    "    client.wait_for_server()\n",
    "    \n",
    "    goal = PoseStamped()\n",
    "    goal.pose.position.x = x\n",
    "    goal.pose.position.y = y\n",
    "    \n",
    "    goal = PlanningGoal(goal)\n",
    "    \n",
    "    client.send_goal(goal, done_cb=goal_done_cb)\n",
    "\n",
    "    clear_output()\n",
    "    display(buttonChange, buttonCancel)\n",
    "    print(f\"New goal has been set, x: {x}, y: {y}\\n\")\n",
    "\n",
    "def update_targets_txt(reached, canceled):\n",
    "    text_reached.value = str(reached)\n",
    "    text_canceled.value = str(canceled)"
   ]
  },
  {
   "cell_type": "markdown",
   "id": "8860602f",
   "metadata": {},
   "source": [
    "## Call back functions\n",
    "\n",
    "These functions handle callbacks for subscriber updates and goal status:\n",
    "\n",
    "- subscriber_callback(data): Processes incoming odometry data and passes it to the visualizer.\n",
    "- goal_done_cb(state, result): Updates the goal status and counters when a new target goal is set."
   ]
  },
  {
   "cell_type": "code",
   "execution_count": 6,
   "id": "f996ca5e",
   "metadata": {},
   "outputs": [],
   "source": [
    "def subscriber_callback(data):\n",
    "    msg = Data()\n",
    "    \n",
    "    msg.vel_x = data.twist.twist.linear.x \n",
    "    msg.vel_y = data.twist.twist.linear.y\n",
    "    msg.position_x = data.pose.pose.position.x \n",
    "    msg.position_y = data.pose.pose.position.y \n",
    "\n",
    "    vis.odom_callback(data)\n",
    "    \n",
    "def goal_done_cb(state, result):\n",
    "    global changed, flag, goalz\n",
    "    if changed:\n",
    "        if state == actionlib.GoalStatus.SUCCEEDED:\n",
    "            if flag == True:\n",
    "                goalz[0] -= 1\n",
    "                goalz[1] += 1\n",
    "                flag = False\n",
    "        else:\n",
    "            flag = True\n",
    "    vis2.update_plot()  "
   ]
  },
  {
   "cell_type": "markdown",
   "id": "4092b1f1",
   "metadata": {},
   "source": [
    "# Visualiser class\n",
    "\n",
    "This class handles the real-time plotting of the robot's position and the current goal position:\n",
    "\n",
    "- __init__: Initializes the plot with position and goal markers.\n",
    "- plot_init: Sets up the plot limits and aspect ratio.\n",
    "- odom_callback: Appends new odometry data to the position lists.\n",
    "- update_plot: Updates the plot with the latest position and goal data.\n",
    "- last_targetcallback: Updates the goal position when a new target is set."
   ]
  },
  {
   "cell_type": "code",
   "execution_count": 7,
   "id": "2b8e2566",
   "metadata": {},
   "outputs": [],
   "source": [
    "class Visualiser:\n",
    "    def __init__(self, ax):\n",
    "        self.ax = ax\n",
    "        self.ln, = self.ax.plot([], [], 'ro', markersize=3, linestyle='-', linewidth=1, label='Position') \n",
    "        self.goal_ln, = self.ax.plot([], [], 'b+', label='Goal') \n",
    "\n",
    "        self.x_data, self.y_data = [], []\n",
    "        self.x_goal, self.y_goal = [0], [0]\n",
    "\n",
    "    def plot_init(self):\n",
    "        self.ax.set_xlim(10, -10)\n",
    "        self.ax.set_ylim(10, -10)\n",
    "        \n",
    "        self.ax.set_aspect('equal') \n",
    "\n",
    "        self.ax.legend()\n",
    "        return self.ln, self.goal_ln\n",
    "\n",
    "    def odom_callback(self, msg):\n",
    "        self.y_data.append(msg.pose.pose.position.y)\n",
    "        self.x_data.append(msg.pose.pose.position.x)\n",
    "\n",
    "\n",
    "    def update_plot(self, frame=0):\n",
    "        global changed\n",
    "        self.ln.set_data(self.x_data, self.y_data)\n",
    "        if changed:\n",
    "            self.goal_ln.set_data(self.x_goal, self.y_goal)\n",
    "        return self.ln, self.goal_ln\n",
    "\n",
    "    def last_targetcallback(self, msg):\n",
    "        global changed\n",
    "        changed = True\n",
    "        self.x_goal = [msg.target_x]\n",
    "        self.y_goal = [msg.target_y]"
   ]
  },
  {
   "cell_type": "markdown",
   "id": "7d046132",
   "metadata": {},
   "source": [
    "## Goal visualizer function\n",
    "\n",
    "This class handles the pie chart visualization of successful and failed goals:\n",
    "\n",
    "- __init__: Initializes the pie chart with initial values and labels.\n",
    "- update_plot: Updates the pie chart with the latest goal counters and ensures the display is refreshed."
   ]
  },
  {
   "cell_type": "code",
   "execution_count": 8,
   "id": "5b064bf1",
   "metadata": {},
   "outputs": [],
   "source": [
    "class GoalVisualizer:\n",
    "    def __init__(self, ax):\n",
    "        self.ax = ax\n",
    "        self.labels = ['Successful', 'Failed']\n",
    "        self.sizes = [0.001, 0.001]  \n",
    "        self.colors = ['lightgreen', 'lightcoral']\n",
    "        self.pie = self.ax.pie(self.sizes, labels=self.labels, colors=self.colors,\n",
    "                        autopct='%1.1f%%', shadow=True, startangle=140)\n",
    "        self.ax.axis('equal')  \n",
    "\n",
    "    def update_plot(self, frame=0):\n",
    "        global goalz\n",
    "        self.sizes = [goalz[1], goalz[0]]\n",
    "\n",
    "        if sum(self.sizes) == 0:\n",
    "            self.sizes = [0.001, 0.001]\n",
    "\n",
    "        self.ax.clear()\n",
    "\n",
    "        self.pie = self.ax.pie(self.sizes, labels=self.labels, colors=self.colors,\n",
    "                               autopct='%1.1f%%', shadow=True, startangle=140)\n",
    "        self.ax.axis('equal')\n",
    "        update_targets_txt(goalz[1], goalz[0])"
   ]
  },
  {
   "cell_type": "markdown",
   "id": "32943afb",
   "metadata": {},
   "source": [
    "## Show the UI\n",
    "\n",
    "Here, we show the UI."
   ]
  },
  {
   "cell_type": "code",
   "execution_count": 9,
   "id": "c12dd1e8",
   "metadata": {},
   "outputs": [
    {
     "data": {
      "application/vnd.jupyter.widget-view+json": {
       "model_id": "c754b013a51e4685b9a8ab9caaadac29",
       "version_major": 2,
       "version_minor": 0
      },
      "text/plain": [
       "Button(description='Change Target', style=ButtonStyle())"
      ]
     },
     "metadata": {},
     "output_type": "display_data"
    },
    {
     "data": {
      "application/vnd.jupyter.widget-view+json": {
       "model_id": "2a982fc200ae41b1859008bbee6ed1da",
       "version_major": 2,
       "version_minor": 0
      },
      "text/plain": [
       "Button(description='Cancel Target', style=ButtonStyle())"
      ]
     },
     "metadata": {},
     "output_type": "display_data"
    },
    {
     "name": "stdout",
     "output_type": "stream",
     "text": [
      "New goal has been set, x: 3.0, y: 3.0\n",
      "\n"
     ]
    }
   ],
   "source": [
    "display(buttonChange, buttonCancel)"
   ]
  },
  {
   "cell_type": "markdown",
   "id": "fb8f88d7",
   "metadata": {},
   "source": [
    "## Visualizing the data\n",
    "\n",
    "here initialize the visualizations:\n",
    "\n",
    "- fig, (ax1, ax2) = plt.subplots(1, 2, figsize=(9.5, 5)): Creates a figure with two subplots for position and goal - visualizations.\n",
    "- vis and vis2: Initialize the visualizer instances for position and goal visualizations.\n",
    "- FuncAnimation: Set up animations for the visualizations to update them in real-time.\n",
    "- update_targets_txt(0,0), display(target_txt): Initialize and display the target counters."
   ]
  },
  {
   "cell_type": "code",
   "execution_count": 10,
   "id": "fa21372f",
   "metadata": {},
   "outputs": [
    {
     "data": {
      "application/vnd.jupyter.widget-view+json": {
       "model_id": "be23bfefae3e4eec887c6245f2027994",
       "version_major": 2,
       "version_minor": 0
      },
      "text/plain": [
       "HBox(children=(Label(value='Reached Targets:'), Label(value='0'), Label(value='Unreached Targets:'), Label(val…"
      ]
     },
     "metadata": {},
     "output_type": "display_data"
    },
    {
     "data": {
      "application/vnd.jupyter.widget-view+json": {
       "model_id": "312212e9c92e428992e5c51606bc5ee5",
       "version_major": 2,
       "version_minor": 0
      },
      "image/png": "[encoded data removed]",
      "text/html": [
       "\n",
       "            <div style=\"display: inline-block;\">\n",
       "                <div class=\"jupyter-widgets widget-label\" style=\"text-align: center;\">\n",
       "                    Figure\n",
       "                </div>\n",
       "                <img src='data:image/png;base64,iVBORw0KGgoAAAANSUhEUgAAA7YAAAH0CAYAAAAJ9bHWAAAAOXRFWHRTb2Z0d2FyZQBNYXRwbG90bGliIHZlcnNpb24zLjcuNSwgaHR0cHM6Ly9tYXRwbG90bGliLm9yZy/xnp5ZAAAACXBIWXMAAA9hAAAPYQGoP6dpAABzJ0lEQVR4nO3deXxU1f3/8fedSSaTZLInJATCJiCrgOxuqKCooKK4gLJZ1GrVLvC1davY/tpSq9a9am2VVrRaEK2A4sKqgCBhR0CWsJMFsu+z3N8fkZFIwpZlciev5+MxD8i95858ThKG+55z7rmGaZqmAAAAAACwKFugCwAAAAAAoC4ItgAAAAAASyPYAgAAAAAsjWALAAAAALA0gi0AAAAAwNIItgAAAAAASyPYAgAAAAAsjWALAAAAALA0gi0AAAAAwNIItgCAE0yYMEGGYWjMmDGn1f7ZZ5+VYRjq1q2bJGnSpEkyDEOTJk2qsf3ixYs1ZswYtW3bVk6nU1FRUWrfvr0uu+wyPfroo/r666+rtV+yZIkMw5BhGKes5Vi7JUuWnLTddddd52+7efPmk7Z94oknZBiGLr300lO+viTt2bPH/9x79uw54XnO5HGyfsyZM8ffburUqSfsP9PXOr6PtfXhx77++mvdeeed6tSpk1wulyIjI9WxY0dNnjxZK1asOK3vUXh4uA4cOFBr25CQkFPWAQBo3kICXQAAoOmZPHmy3nrrLX344YfKy8tTXFzcSdu/+eab/uNO5de//rWeeuopSVKHDh10xRVXKCoqSocPH9batWu1ZMkSbd++XbNnz657R2px+PBhffzxx/6v//nPf+rZZ59tsNc7pnfv3po4ceIp23311VfatWuXQkJClJKSUmu7f/7zn/6/z5w5U3/+858VGhrq31bTa2VmZurTTz+tdX+XLl1OWZ8kVVZW6t5779Ubb7whSTrnnHM0fPhwGYahjRs36o033tAbb7yhO+64Q6+++qocDketz1VeXq7HH3/c/1wAAJwpgi0A4ASXXHKJOnbsqJ07d+rtt9/W/fffX2vbb775Rps2bVJoaKjGjx9/0uedP3++nnrqKYWEhOitt946YUTY7Xbr888/V0ZGRr30ozb/+te/5PV61apVKx08eFAzZ87Uk08+edLwVR9GjRqlUaNGnbTNN998o3fffVeS9Ne//rXWoHnw4EF9+umnstvtSkpKUmZmpubOnasbb7zR32bGjBknHLdkyRJ/sK1p/+kaM2aMPvjgAyUkJGjGjBkaOXJktf2ffPKJJk6cqDfffFMFBQV6//33a3wewzAUFhamf//735o6daq6d+9+1jUBAJovpiIDAE5gGIZ+8pOfSPphNLY2x/aPHDlSLVq0OGnbY4Ht5ptvrnGac2hoqK655hrdd999Z1P2aTs2MvjMM8+oQ4cOOnLkiP73v/816GuejuzsbN14442qqKjQ+PHj9cADD9TadsaMGfJ6vbryyit1zz33SKo+gtuQXn/9dX3wwQcKDQ3VggULTgi1knT11Vfr008/VWhoqObMmVNrbTabTQ888IC8Xq8eeeSRhi4dABCkCLYAgBpNmjRJdrtda9eu1caNG2tsU15erv/85z+STm8aclZWliSdMgA3pKVLl2rHjh1KSEjQDTfcoDvuuENS44XC2ng8Ht188806cOCAzj//fP3973+vta1pmv5wPnnyZN1xxx2y2Wz69NNPdfDgwQat0zRNTZ8+XZJ0zz33qF+/frW27dOnj+69915J0p/+9CeZpllju4cfflhxcXH66KOPtHz58vovGgAQ9Ai2AIAatWzZUtdcc42k2kPfnDlzlJ+fr9TUVF111VWnfM42bdpIkmbPnt3gAaw2x/py++23y+FwaNKkSbLZbPr888+1f//+gNQkSVOnTtWyZcuUmJioOXPmyOl01tp28eLF2r17txITE3XdddepTZs2Gjp0qLxer/71r381aJ0bN270TxWfMGHCKdsfa7N79+5aF+mKi4vTQw89JEn6zW9+U0+VAgCaE4ItAKBWx0Zh3377bVVWVp6w/9g05GOju6fy05/+VCEhITp48KA6deqkm2++Wc8//7y+/PJLlZaW1m/xNSgoKPAvSnVsqnXr1q11xRVXyOfz1ema07qYOXOmXnjhBdntdr377rtq27btSdsfC+fjxo3zLxZ1rD9vvPFGrSOj9SE9PV2S5HA41Lt371O279Wrl//a5TVr1tTa7oEHHlDr1q21fPlyffTRR/VSKwCg+SDYAgBqNWLECKWkpOjo0aMnhI19+/Zp0aJFkuSfznsq/fv31wcffKDWrVurrKxMs2fP1i9/+Utdcsklio2N1ZVXXqnPP/+83vtxzH/+8x+VlZWpb9++6tWrl3/7sQD/5ptvNmgorMm6det09913S5KefPJJDR069KTt8/PzNWfOHEnVp3/fcMMNio+P165du7R06dIGqzcnJ0eSFB8fr5CQU69BGRISovj4+GrH1iQ8PFxPPPGEJOmRRx6R1+ute7EAgGaDYAsAqFVISIj/ljA/vhXLm2++KZ/PpyFDhqhjx46n/ZwjR47U7t27NXfuXP3iF7/QBRdcoIiICP+KyFdeeaWmTZtWr/045h//+IekH0Y3j7n++uuVkJCgjIwMf1hvDEePHtUNN9ygsrIyjRkzpsZ70f7YzJkzVV5erv79+6tHjx7+7WFhYbrtttskBf564R873Q8LJk2apG7dumnLli0NPqUaABBcCLYAgJM6FgI/++wz/3Wxpmn6p+2ezqJRPxYaGqqRI0fqueee0/Lly5Wbm6sFCxb4FyL6/e9/r9WrV/vbG4bh//vJQtLx+44/RpI2bNig9PR0OZ1OfwA8xuFw6Pbbb5d0YoBvKF6vV7feeqv27t2r884777TD6LF2Pw7nx297//33VVBQUH/FHicxMVGSlJubK4/Hc8r2Ho9Hubm5kqSkpKSTtrXb7frTn/4kSZo2bZrKy8vrWC0AoLkg2AIATqpz5866+OKL5fV69e9//1tS1eJFe/bsUUxMjG666aY6v0ZYWJiGDx+uxYsXq1WrVpJU7fY7kZGR/r+XlJTU+jzFxcX+v7tcrmr7jgXCkJAQjRw5UhdddFG1x2effSbphwWxGtpDDz2khQsXKi4uTh988IEiIiJOeczatWu1fv16SdLf//73E/rwwAMPyGazqayszL9adX3r27evJKmyslLr1q07Zfv169fL7XZXO/Zkrr/+el1wwQU6cOCAXnzxxboVCwBoNgi2AIBTOv4aVOmHUc0xY8YoPDy83l7H5XJp8ODBkqQjR474t6elpfn/vnPnzlqP37FjR43HVFRU6O2335ZUFX6XL19+wmPbtm2Sqm5hdKxtQ3nvvff09NNPy2az6T//+Y86dOhwWscdP6q7bt26Gvvh8/lOaFufevXqpXbt2kmS/4OOkznWpl27durZs+dpvcaTTz4pSZo+fXqjfMgAALA+gi0A4JRuvvlmRUdHa8eOHZo3b16NixedjtO51nLfvn2SqlYrPiY5OVndu3eXVDXNtjbHVjzu0aNHtXvlzpkzR7m5uUpNTZXH45FpmjU+/va3v0lq2GtUN23a5P++/eEPf9Dw4cNP67iysjK98847kqRPPvmk1j7k5eUpLCxMa9asqfX+w3VhGIb/1jyvvfbaSVc6XrdunV599VVJVfeq/fH08NpcdNFFuvbaa5WXl+e/Zy4AACdDsAUAnFJERITGjh0rqeo6zrKyMvXs2VP9+/c/o+eZPHmyHnvssRpHXcvKyvTEE09o9erVCgkJOWGK87Ew9cwzz2j+/PknHD937lw9++yz1doec/ztcU52W6IxY8bI4XBo3bp1/im/9SkvL0833HCDSkpKNHr0aD388MOnfez777+v/Px8tWzZUldccUWt7WJjY3XttddKarjrhe+++25dd911crvduuqqqzRv3rwT2ixYsEDDhw+X2+3Wddddp7vuuuuMXuNPf/qTbDabXnzxRf8oNAAAtTn1Ov0AAKgqlL722mv+W7aczaJRubm5evPNN/XHP/5RHTp0UPfu3RUVFaXs7Gylp6crLy9PdrtdL7zwgrp27Vrt2HHjxmnDhg16+umnNXLkSHXv3t0/irtlyxZt2bJFkvR///d//oWgJFVb6fjYCs+1iYuL08iRIzVnzhz985//POEaz7Vr12rQoEG1Hj9ixAj99re/rXX/z3/+c+3atcv/9aRJk05ajySNGjVKo0aNOu1wLkkTJkzQ7NmzNXPmTP3lL3/x30e2vhiGof/+97/66U9/qn/961+69tpr1bFjR/Xq1UuGYWjDhg3+aeHjx4/X66+/ftqjtcf06NFDEyZMCNi9hQEA1kKwBQCclv79+6tnz57atGmTHA6Hxo0bd8bP8fLLL2vUqFFauHChNm3apFWrVik3N1fh4eFq3769br/9dt1zzz3+wPpjTz31lEaOHKnXXntNK1as8N9bNyUlRWPHjtU999yjSy65pNoxx+5N269fP3Xr1u2UNU6YMEFz5szR22+/raeeekpOp9O/r6ioSKtWrar12C5dupz0uffv3+//+8mmVB/v2LWpx+5Ne6pwLklXX321kpKSlJOTow8//FC33HLLab3WmQgLC9OMGTN099136x//+IeWLVvmnyLdsmVLTZo0SXfeeacuvPDCs36N3//+93r33XdZHRkAcEqG2dh3ogcAAAAAoB5xjS0AAAAAwNIItgAAAAAASyPYAgAAAAAsjWALAAAAALA0gi0AAAAAwNIItgAAAAAASyPYAgAAAAAsjWALAAAAALA0gi0AAAAAwNIItgAAAAAASyPYAgAAAAAsjWALAAAAALA0gi0AAAAAwNIItgAAAAAASyPYAgAAAAAsjWALAAAAALA0gi0AAAAAwNIItgAAAAAASyPYAgAAAAAsjWALAAAAALA0gi0AAAAAwNIItgAAAAAASyPYAgAAAAAsjWALAAAAALA0gi0AAAAAwNIItgAAAAAASyPYAgAAAAAsjWALAAAAALA0gi0AAAAAwNIItgAAAAAASyPYAgAAAAAsjWALAAAAALC0kEAXgIbh8/l06NAhRUVFyTCMQJcDAGfFNE0VFRUpNTVVNhufxQIAgJoRbIPUoUOHlJaWFugyAKBe7N+/X61btw50GQAAoIki2AapqKgoSVUng9HR0QGuBgDOTmFhodLS0vzvaQAAADUh2AapY9OPo6OjCbYALI9LKgAAwMlwwRIAAAAAwNIItgAAAAAASyPYAgAAAAAsjWALAAAAALA0gi0AAAAAwNIItgAAAAAASyPYAgAAAAAsjWALAAAAALA0gi0AAAAAwNIItgAAAAAASyPYAgAAAAAsjWALAAAAALA0gi0AAAAAwNIItgAAAAAASyPYAgAAAAAsjWALAAAAALA0gi0AAAAAwNIItgAAAAAASyPYAgAAAAAsjWALAAAAALA0gi0AAAAAwNIItgAAAAAASyPYAgAAAAAsjWALAAAAALA0gi0AAAAAwNIItgAAAAAASyPYAgAAAAAsjWALAAAAALA0gi0AAAAAwNIItgAAAAAASyPYAgAAAAAsjWALAAAAALA0gi0AAAAAwNIItgAAAAAASyPYAgAAAAAsjWALAAAAALA0gi0AAAAAwNIItgAAAAAASyPYAgAAAAAsjWALAAAAALA0gi0AAAAAwNIItgAAAAAASyPYAgAAAAAsjWALAAAAALA0gi0AAAAAwNIItvXg5ZdfVrt27eR0OjVw4ECtXr36pO1nzZqlLl26yOl0qmfPnvr4449rbXvPPffIMAw999xz9Vw1AAAAAAQHgm0dvffee5oyZYqmTZumtWvXqlevXho+fLiys7NrbL9ixQqNHTtWkydP1rp16zRq1CiNGjVKmzdvPqHtBx98oK+//lqpqakN3Q0AAAAAsCyCbR399a9/1V133aU77rhD3bp106uvvqqIiAi98cYbNbZ//vnnddVVV+nBBx9U165d9f/+3//T+eefr5deeqlau4MHD+qBBx7Q22+/rdDQ0MboCgAAAABYEsG2DiorK5Wenq5hw4b5t9lsNg0bNkwrV66s8ZiVK1dWay9Jw4cPr9be5/Np/PjxevDBB9W9e/eGKR4AAAAAgkRIoAuwsiNHjsjr9So5Obna9uTkZG3btq3GYzIzM2tsn5mZ6f/6ySefVEhIiH7+85+fdi0VFRWqqKjwf11YWHjaxwIAAACAlRFsm5j09HQ9//zzWrt2rQzDOO3jpk+frt/97ncNWBkAAEDgmD6fzJIS+QoLZRYVyVdcLLO0VGZZ2YmPysqqg2y2qvMpm00yjKrH93+vtv3YNqdTtqgoGdHRsn3/OPZ3g0vDgCaNYFsHiYmJstvtysrKqrY9KytLKSkpNR6TkpJy0vZffvmlsrOz1aZNG/9+r9erqVOn6rnnntOePXtqfN6HH35YU6ZM8X9dWFiotLS0s+kWAABAwPgKCuTNzKx6ZGfLzM+Xr6hIZnGxZJpn/HxnfkTNjPDwHwLv8eE3Nlb2lBQZ4eH19EoAzgbBtg4cDof69u2rhQsXatSoUZKqro9duHCh7r///hqPGTx4sBYuXKhf/vKX/m2ff/65Bg8eLEkaP358jdfgjh8/XnfccUettYSFhSksLKxuHQIAAGgkps8nX07ODyE2K0u+zEyZZWWBLq1Gx0aDfT8aoDjGFh8ve6tWsqemVv3ZsqWMEE61gcbCv7Y6mjJliiZOnKh+/fppwIABeu6551RSUuIPoRMmTFCrVq00ffp0SdIvfvELDRkyRM8884xGjBihd999V2vWrNHf//53SVJCQoISEhKqvUZoaKhSUlJ07rnnNm7nAAAA6oHp9cp78KC8hw//EGKzsyWvN9Cl1Rtfbq58ublyb9pUtcFmk61FC4W0alUVdFu1ki0p6YwuNQNw+gi2dXTrrbcqJydHjz/+uDIzM9W7d28tWLDAv0DUvn37ZLP9sPj0BRdcoHfeeUePPfaYHnnkEXXq1EkffvihevToEaguAAAA1DtfYaE8O3bIvXOnPLt3S8eue20ufD75MjNVmZkppadXbXM4ZG/ZUvZWrRTSrp1C2rdnVBeoJ4ZpnsXFCmjyCgsLFRMTo4KCAkVHRwe6HAA4K7yXAdZhmqa8Bw7I8913cu/YUeuUXRwnNFQhHTootFMnhXTuLFtUVKArAiyLj4gAAABwVnylpfLs3Ol/NNXrY5sst1ue7dvl2b5dkmRr2VKhnTsrtFs32Vu0CHBxgLUQbAEAAHDafHl5qty8WZ4dO+Q9cOCsVipGzXyHD6vi8GFVLF0qW2KiQrt1U2j37oRc4DQQbAEAAHBSps8nz/btqkxPl2fXrkCX0yz4jhxRxbJlqli2TLakJIV26yZHr16yxcUFujSgSSLYAgAAoEa+/HxVpqercv36qvvIIiB8OTmqWLpUFcuWKaRTJzkGDFBIhw6ssAwch2ALAAAAv2qjs7t3M9W4KTFNeb77Tp7vvpMtMVGO/v3l6N1bhsMR6MqAgCPYAgAAoGp0du3aqtHZoqJAl4NT8B05ovJPPlH5okVy9O4tx4ABssfHB7osIGAItgAAAM2U+f0IYOWaNVXXzjI6az0VFapctUqVq1b9ME35nHOYpoxmh2ALAADQzJimKc/WrSpftoz7zQYRz44d8uzYIVtCwg/TlMPCAl0W0CgItgAAAM0EgbZ58B09qvIFC1S+eLHCLrpIYYMGyQjhtB/BzRboAgAAANCwTNOUe+tWFb/2mkpnzSLUNhcVFapYuFBFL75Yde10kEw1nzFjhmJjY/1fP/HEE+rdu3ednnPPnj0yDEPr16+v0/MgcAi2AAAAQcyzZ49K/vEPlf73vwTaZsosLFTZ//6n4tdek7sJ3Yd40qRJMgzjhMfOnTtPetytt96q7777rpGqhFUwJwEAACAIebOyVP7FF/KcIiSg+fBlZal05kyFdOgg5xVXyJ6SEuiSdNVVV+nNN9+sti0pKemkx4SHhys8PLwhy4IFMWILAAAQRHwFBSr98EMVvfYaoRY18uzereK//12lH34oX0FBQGsJCwtTSkpKtcfzzz+vnj17KjIyUmlpafrZz36m4uJi/zE/nopck3/84x/q2rWrnE6nunTpor/97W/V9q9evVp9+vSR0+lUv379tG7duoboHhoRI7YAAABBwPT5VLlihcqXLJG8XnGzF5yUacq9YYPcW7YobOBAhV10kQynM9BVSZJsNpteeOEFtW/fXrt379bPfvYz/frXvz4hnNbm7bff1uOPP66XXnpJffr00bp163TXXXcpMjJSEydOVHFxsUaOHKkrrrhCM2fOVEZGhn7xi180cK/Q0Ai2AAAAFufNylLJBx/I5BpanCmPRxXLl6ty7VqFXXqpHP37N+o9cOfNmyeXy+X/+uqrr9asWbP8X7dr105/+MMfdM8995x2sJ02bZqeeeYZ3XjjjZKk9u3b69tvv9Vrr72miRMn6p133pHP59M///lPOZ1Ode/eXQcOHNC9995bv51DoyLYAgAAWJTp9aps8WJVrlghI0hWvEVgmGVlKv/kE7m//VYR118vW1xco7zuZZddpldeecX/dWRkpL744gtNnz5d27ZtU2FhoTwej8rLy1VaWqqIiIiTPl9JSYl27dqlyZMn66677vJv93g8iomJkSRt3bpV5513npzHjVAPHjy4nnuGxkawBQAAsCDPgQMqnD1b9oICph2j3nj37lXRq68q/Mor5ejbt8FfLzIyUh07dvR/vWfPHo0cOVL33nuv/vjHPyo+Pl5fffWVJk+erMrKylMG22PX4r7++usaOHBgtX12u73+O4Amg2ALAABgIabbreJPP5U3PV2cpqNBVFaqbN48ubdtU/h118kWFdVoL52eni6fz6dnnnlGNlvVOrf//e9/T/v45ORkpaamavfu3br99ttrbNO1a1e99dZbKi8v94/afv3113UvHgHFqsgAAAAW4c7IUO4LL8iXns4oLRqcZ+dOFb/yiio3b2601+zYsaPcbrdefPFF7d69W2+99ZZeffXVM3qO3/3ud5o+fbpeeOEFfffdd9q0aZPefPNN/fWvf5Uk3XbbbTIMQ3fddZe+/fZbffzxx3r66acbojtoRARbAACAJs6sqFDhnDkq+fe/FXLcbU+AhmaWlans/fdVOnu2fKWlDf56vXr10l//+lc9+eST6tGjh95++21Nnz79jJ7jzjvv1D/+8Q+9+eab6tmzp4YMGaIZM2aoffv2kiSXy6W5c+dq06ZN6tOnjx599FE9+eSTDdEdNCLDNFlpIBgVFhYqJiZGBQUFio6ODnQ5AHBWeC8DJPfu3SqaPVv2srJAl4JmznC5FH7ttQrt3DnQpQAn4BpbAACAJqrgiy9kLl/OtbRoEsziYpX+5z8K7dNH4cOHywgLC3RJgB/BFgAAoInxVlQo69//VuShQ1xLiybHvW6dPBkZirz5ZtlTUwNdDiCJa2wBAACalLzdu3X4r39V5KFDgS4FqJWZn6/iN99U5caNgS4FkMSILQAAQJOxb+lShS1Zosa7uQpQBx6Pyj74QN7MTDmvuEKGwfwCBA7BFgAAIMC8Xq92/+c/Sty5UzbCASymcuVK+bKzFXHTTTK+vy8s0NiYigwAABBAZYWFynjxRbXYtYtQC8vy7Nql4tdflzcnJ9CloJki2AIAAARI7u7dynnxRSUVFAS6FKDOfLm5Kn7jDXn27Al0KWiGCLYAAAABsH/ZMrnfeksxHk+gSwHqT3m5SmbOVOWGDYGuBM0M19gCAAA0Ip/Ppx1z5ihp82bZmXqMYOT1quzDD+XLz5dzyJBAV4NmgmALAADQSMrLyrTl7bfV4cABrqdF0KtYskS+/HyFjxwpw24PdDkIcgRbAACARpCbk6MtM2eqR0EBoRbNhnv9epnFxYq49VYZIUQPNByusQUAAGhg+3ft0tq//109CbVohjw7d6p01iyZXm+gS0EQI9gCAAA0oL07dmjbzJnq53bLINSimfJ8951K339fps8X6FIQpAi2AAAADSRj2zbtePttDZAItWj2PFu3qmzOHMItGgTBFgAAoAHs2rpVu//zH/Un0AJ+7i1bVPbhhzJNM9ClIMgQbAEAAOrZzi1btO/dd9XPxqkW8GPuTZtU9tFHhFvUK5YmAwAAqEfbN27U4dmzdT63NwFq5V6/XrLZqm4FxKwG1AM+RgQAAKgnW9evV+bs2epDqAVOyb12rco//jjQZSBIEGwBAADqwbdr12rP7NnqTagFTlvlmjUqW7Ag0GUgCBBsAQAA6mjzmjXaPHu2BoVwlRdwpipXrVLZZ58FugxYHMEWAADgLJmmqY2rVumb2bN1ucMhG9cKAmelcuVKVaxaFegyYGEEWwAAgLO0dd06Lf/gAw13OhVKqAXqpPyzz+TZsyfQZcCiCLYAAABnYe/OnVr0wRxdFRamSEItUHc+n0pnzZKvoCDQlcCCCLYAAABnKOfwYX3y3/+qcmSk9nWOEHfjBOqHWVqqkvfek+l2B7oUWAzBFgAA4AwU5efr4/feU2H3Stk7R2j9NU4tHRQpD4O2QL3wHT6ssnnzAl0GLIZgCwAAcJrKy8q0YPZsHXJmKuySOP/2PQNCteCaKJXaObUC6oN740ZVrFwZ6DJgIbz7AgAAnAav16t/v/maVm5dpogbU07Yf+Qcu+aOcSnXyX1sgfpQ/vnn8mRkBLoMWATBFgAA4DR8+c2X2pKzQyn3dJNCa553XJZg0/wJLu2LC23k6oAgZJoqnT1bvvz8QFcCCyDYAgAAnMLm7zbrs68+U9pN7RWWGH7Stl6noUXjI7WpnZNFpYA6YjEpnC6CLQAAwEkcyjqk/33xP4V1CVNo6umPxKZf59TyvhHyNGBtQHPgy8xU2UcfBboMNHEEWwAAgFoUlRRpzqdzlOfJU+zA2DM+fueFDn023KVyG0smA3Xh3ryZxaRwUgRbAACAGni8Hs1dOFff7f1OrUe0lkLO7nmyzw3R3FuilO9gUSmgLsoXLpT3yJFAl4EmimALAABQg1XrV2nNxjVqO6StjPi6jbiWtLBp7kSXDsawqBRw1rxelX30kUyTq9dxIoItAADAjxzKOqSFyxcqKjVKId3Ocqj2R7zhhj4fH6Gtac56eT6gOfLu36/K1asDXQaaIIItAADAcdxut+Yvma/colzFXx4v1ecMYpuhVTc4tbJXhLz1+LRAc1K+cKF8eXmBLgNNDMEWAADgOMvTl2vLd1vU9vK2UkzDvMb2IQ59MdSlChaVAs6c262yefMCXQWaGIItAADA9/Yd2qdFKxcpvn28bJ0b9jTpcPcQzb/RpcJQTseAM+XZvVuVa9cGugw0IbyTAgAASCqvKNf8RfNVXFGsmCExjXKWVJhq17zxUcp01c91vEBzUvbZZ/IVFQW6DDQRBNt68PLLL6tdu3ZyOp0aOHCgVp/igvZZs2apS5cucjqd6tmzpz7++GP/Prfbrd/85jfq2bOnIiMjlZqaqgkTJujQoUMN3Q0AAJq1ZauXadvubWozrI3karzXrXQZ+nRCpL5rGdZ4LwoEg4oKlc2fH+gq0EQQbOvovffe05QpUzRt2jStXbtWvXr10vDhw5WdnV1j+xUrVmjs2LGaPHmy1q1bp1GjRmnUqFHavHmzJKm0tFRr167Vb3/7W61du1Zz5szR9u3bdd111zVmtwAAaFZ27d2lZauXqUXnFjI6NP51r2aIoRU3h2t193D5Gv3VAevybN+uyu/Po9G8GSY3gqqTgQMHqn///nrppZckST6fT2lpaXrggQf00EMPndD+1ltvVUlJieYdd8H7oEGD1Lt3b7366qs1vsY333yjAQMGaO/evWrTps1p1VVYWKiYmBgVFBQoOjr6LHoGAIHHexkaQ2lZqf75339qz4E9anN7mwZbMOp0tdrg1pBlpXJwigacFiMiQq777pMtIiLQpSCAGLGtg8rKSqWnp2vYsGH+bTabTcOGDdPKlStrPGblypXV2kvS8OHDa20vSQUFBTIMQ7GxsfVSNwAAqGKaphatXKSde3cqbUBawEOtJB3sFar5o1wqCuE0DTgdZmmpyj/5JNBlIMBYqaAOjhw5Iq/Xq+Tk5Grbk5OTtW3bthqPyczMrLF9ZmZmje3Ly8v1m9/8RmPHjj3paEVFRYUqKir8XxcWFp5uNwAAaLa2796u5WuWKykxSUa3pnPrnYI0u+aNc2norFK1KPEEuhzUo+mLF+vJpUurbeuUkKBvHnhAklTuduuxzz7T+5s3q9Lj0eUdO+qZESPUwlX7hd+maepPixfr32vXqqC8XAPT0vTXkSN1TkKCJKnC49EDH32kT7ZtUwuXS8+MGKFLzznHf/wLy5drf0GBnrrmmgboceNwb94sz/nnK6R9+0CXggDho8AmzO1265ZbbpFpmnrllVdO2nb69OmKiYnxP9LS0hqpSgAArKm8olwLli2Qx+tRTK8YqYnNYqyItumTiZHa1cIR6FJQz7omJWn71Kn+x4Kf/MS/75FPP9WC7ds14+abNf+OO5RZVKTx77130ud7fvlyvbZqlf46cqS+uPNORTgcuvGtt1TudkuSZqSna8OhQ/rszjs1qW9f3fn++zp2NeKevDz9Kz1dv7388obrcCMp/+ILcZVl80WwrYPExETZ7XZlZWVV256VlaWUlJQaj0lJSTmt9sdC7d69e/X555+f8tqyhx9+WAUFBf7H/v37z6JHAAA0H+mb07XnwB61at1Kvo5Nc8kmM8TQl2MitPZcFpUKJnabTclRUf5HQmSkJKmgvFxvrV2rPw4friEdOqh3aqpevv56rdq/X9/Ucm5nmqZe+fprPXjJJRrRpYt6pKTo1RtuUGZRkeZ/P4Pwu5wcXX3uueraooXuHDBAR0pLdbS0VJI0dd48PXHFFYp2Ohun8w3Ie+iQ3Fu2BLoMBAjBtg4cDof69u2rhQsX+rf5fD4tXLhQgwcPrvGYwYMHV2svSZ9//nm19sdC7Y4dO/TFF18o4ftpJCcTFham6Ojoag8AAFCzwuJCLVu9TJHhkbJ1tUlNfFB04/AwLb0wUu6mM1sadbA7N1ddnn5avZ57Tne9/7725+dLktYfOiS3z6chHTr423ZOSlLrmBitPnCgxufam5enrOLiasfEOJ3q27q1/5geKSn6et8+lbndWrhzp1JcLiVEROi/GzcqLCRE13bt2nCdbWQVixbJ9HoDXQYCgGts62jKlCmaOHGi+vXrpwEDBui5555TSUmJ7rjjDknShAkT1KpVK02fPl2S9Itf/EJDhgzRM888oxEjRujdd9/VmjVr9Pe//11SVai96aabtHbtWs2bN09er9d//W18fLwcjib+Py8AABbw9bqvlZmdqQ5dOshsZ42pi3v7hqooIUpD55co0sv4rVX1a91afxs1Sh0TEpRVXKwnlyzR1W++qZU/+5myi4vlsNsVGx5e7ZgWkZHKLi6u8fmyvt/+42twjz9mXJ8+2pKVpYEvv6yEiAi9efPNyi8r058WL9a8SZP0h4UL9f7mzWofH6+Xrr9eqRYeIPHl5akyPV1hAwYEuhQ0MoJtHd16663KycnR448/rszMTPXu3VsLFizwLxC1b98+2Ww/DIxfcMEFeuedd/TYY4/pkUceUadOnfThhx+qR48ekqSDBw/qo48+kiT17t272mstXrxYl156aaP0CwCAYJVzNEcr1q5QXEycjG6GTLs1gq0k5baza+5tLg2bXarEMhaVsqIrOnXy/72HpL6tWum8557TB1u2KDykYU7NQ+12PT1iRLVtP/vwQ/104EBtPHxY87dt01f33qvnly/Xbz75RG/demuD1NFYKpYulaNXLxlhYYEuBY2IYFsP7r//ft1///017luyZMkJ226++WbdfPPNNbZv164dF70DANBATNPUsm+WKa8gTx3P6yhfK+uNfJbH2fTxxEhd8t8ytcutDHQ5qKPY8HCdk5CgjNxcXdqhgyq9XuWXlVUbtc0uKal1VeTk77dnFxcrJSqq2jE9a1nzZVlGhrZlZ+vF667Tbz/7TFd06qRIh0M3dO+u11evrsfeBYZZWqqKr7+Wc8iQQJeCRsQ1tgAAoNnYf3i/1m5eq6SEJJndTMmi16z6HIaWjIvQhg5O8XG4tRVXVCgjN1fJLpd6p6Yq1GbT0owM//4dR47oQEGBBrRuXePxbePilOxyVTumsLxc6QcO1HhMudutB+fP17PXXiu7zSavacrtq/qAx+31yuuz3oc9Nan8+muZ5eWBLgONiGALAACaBZ/PpyWrlqikrEQxHWJkJlk/Eq4b6dSXAyLEpGTreOzTT/XVnj3am5enVfv2adx778lus+mmnj0V43Rq/Pnn69FPP9WyjAytP3RI9334oQa0bq3+x93Ksf+LL2ru1q2SJMMwdO+gQXp62TJ9vG2btmRl6Z4PPlBKVJRGdOlywus/tWyZrujUSb1atpQkDUpL09ytW7U5M1Ovr16tQW3aNM43ooGZ5eWqWLUq0GWgETEVGQAANAvfZXynzds3q2WLlvJ1DY5RKUnaPcihwkSbLv+0RBFe64f1YHeosFB3zp6t3LIyJUZEaFCbNvrizjuV+P0tf/40fLhshqEJ772nSq9Xl59zjp750fWxO44eVeFxo5G/uPBClVRW6pdz56qgvFyD2rTR++PGyRkaWu24b7Oy9MGWLfrynnv8267v1k1f7dmja958Ux0TEvSP0aMbsPeNq/LrrxU2cKCMILiVEU7NMLmgMygVFhYqJiZGBQUF3PoHgGXxXob64va49c///lM79uxQuz7t5BsUPMH2mIgjPg17v0TxFdzqBDgm7NJLuda2mWAqMgAACHobt23UdxnfKbVFqmVu73OmShNtmj/Rpf2xoaduDDQTXGvbfBBsAQBAUCstL9XSVUsVGhKqsNgwmcnBGWwlyes0tHBchDa3ZeolIFVda1uZnh7oMtAICLYAACCobdy6UfsO76u6tradz7IrIZ82m6E11zu1vG+EmJQMSJXp6dxOsxkg2AIAgKDl9ri1esNqhYWGKcQRIjOt+Zzc7rjQoc+ucKncFuxJHjg5X16evMfdDgnBiWALAACC1s49O7Xv8D61SGghs7UpOQJdUePK6hqieTdHKd9hD3QpQEBVMB056BFsAQBAUDJNU2u3rJXP65MzzFk1DbkZKk62ad4Elw5Fs6gUmi/Ptm3yFRcHugw0IIItAAAISpk5mdq6c6sS4xPlS/BJzfiOUZ4IQ5+Nj9C2VmGBLgUIDJ9PlevWBboKNCCCLQAACEobtm1QUUmRol3RQXuLnzNiN/T16HB93TOcRaXQLLnXrWMRqSBGsAUAAEGnpLRE6ZvSFRMVI4UrqG/xc6a2XRamhZe5VGGwqBSaF19enjy7dwe6DDQQgi0AAAg6W3ZsUU5ujhLjEquureWMp5pDPUM0f7RLhaF8Y9C8cE/b4MW7GQAACCoer0erN6yWI9QhW6hNZhtGa2tSmGrXvHFRynSFBLoUoNF4tm9nEakgRbAFAABBZefendp7cG/VLX6Sm98tfs5EZZShTydEakcyi0qhmWARqaBFsAUAAEFl3ZZ18ng9CneGy0xhtPZUzBBDy28N1zddw9U8b4iE5qZy7VoWkQpCBFsAABA0MnMytWXHFiXEJcg0TJktOHk9XVuuCNPiiyNVyaJSCHJmfr48u3YFugzUM4ItAAAIGpu2b1JRcZFio2JlJppSaKArspb9fUL1yfUuFYdwiojg5t6yJdAloJ7xrgUAAIKC2+PWhq0b5IpwyTAMpiGfpbw2ds293aWcCBaVQvDy7NjBdOQgQ7AFAABB4WDmQeXk5iguJk6mTO5dWwcVMTZ9PCFSu5NYeQvBySwpkffw4UCXgXpEsAUAAEFh9/7dKq8olzPMKcVJcga6ImszHYaWjY3Quk5O8REBgpHnu+8CXQLqEcEWAABYns/n0+btmxXhjJBhGPKlsL5vfdlwtVNLB0fKzZpSCDKeHTsCXQLqEcEWAABY3uHsw8rMyVRsTKwkcX1tPdvTP1QLRkSp1M6pI4KH99Ah+UpKAl0G6gnvTgAAwPIyDmSotKxUkeGRMqNMKTLQFQWfox3smjvWpaNOe6BLAeoNo7bBg2ALAAAszTRNfbvjWzkcDlZDbmBl8TbNn+TS3jgWlUJw8OzcGegSUE8ItgAAwNKO5B7RvsP7FBsdK0lcX9vAfA5Di8dHaGN7FpWC9bl37pTp4z0jGBBsAQCApWUcyFBRcZGiIqNkhptSTKArah7WXuvUV/0j5Al0IUBdVFTIu29foKtAPSDYAgAAS9u2a5tCQkJks9lkJjKG2Jh2DXbo06tcKrOxZDKsy811tkGBYAsAACyroKhAu/btUlx0nCTJjCPYNracziGad0uU8sJYVArWxAJSwYFgCwAALGv3/t0qKCpQtCtakmTGEmwDoaSFTfMmuHQgJjTQpQBnzJeTI19BQaDLQB0RbAEAgGXtyNghm2GT3W6XaTclV6Arar684Ya+GB+hLWnOQJcCnDHPnj2BLgF1RLAFAACW5PF6tGvfLkW5oqo2xIgzm0CzGfrmBqdW9ImQN9C1AGfAm5kZ6BJQR7z9AwAASzqSe0RFJUWKDI+UxDTkpuS7ix36/AqXyllUChZBsLU+gi0AALCk7KPZKisvU7gzXBLBtqnJ7Bqi+TdFqcDBolJo+nxZWYEuAXVEsAUAAJaUdSRLpmnKZqs6nSHYNj1FKTbNG+fS4SgWlULTZpaVsYCUxRFsAQCAJe09tFeOUIckyXSYUkSAC0KN3C5Dn06I0PbUsECXApwU05GtjWALAAAsp7yiXIcyD8kVUbUMMqO1TZzd0MqbwrWqR7h8ga4FqIX38OFAl4A6INgCAADLyT6arZKyEkVGsHCUlWy9PEwLL41UpcGiUmh6vFxna2kEWwAAYDnZR7NVXlGuMMf301tjA1oOzsDB80I1/waXikI4DUXTwlRka+MdBQAAWE5mdqZshk3G9yN/jNhaS0Fru+aOcykrMiTQpQB+Zn6+zPLyQJeBs0SwBQAAlmKapjIOZsjpdFZ9HW5KjgAXhTNWGW3TgomR2tmCRaXQdDBqa10EWwAAYCnFpcU6knvEf32twgNbD86eGWLoqzHhSu/ColJoGgi21kWwBQAAlpJ9JFslpSVyhX+/IrKTachWt+nKMC25MFJu1pRCgLGAlHURbAEAgKVkHc2Sx+tRaGho1QZGbIPCvr6h+uTaKJWwqBQCiGBrXbxzAAAAS8k5miNDPwztMWIbPHLb2TX3NpeOhLOoFALDLCgIdAk4SwRbAABgKbkFuT+M1kqM2AaZ8libPp4YqYwEVgRD4zNLS2V6vYEuA2eBYAsAACwlryBPjtAfQg8jtsHH5zC09PYIre/oFD9dNDazqCjQJeAsEGwBAIBlVFZWqri0uFqwlTNw9aBhrb/GqWUDI+UJdCFoVnwEW0si2AIAAMsoLi1WpbvSH2xNw5S4DWpQyxgYqgUjolRqZ8lkNA5GbK2JYAsAACyjuLRYlZU/BFs5JZF3gt6Rc+yaOyZKuU57oEtBM+ArLAx0CTgLBFsAAGAZJaUlqnRXcqufZqgswab5E1zaFxt66sZAHZjFxYEuAWeBYAsAACyjuLRYhmHIZqs6hWHhqObF6zS0aEKkNrdjUSk0HF9ZWaBLwFkg2AIAAMsoKS2pvoER22ZpzXVOLe8bwaJSaBAmwdaSCLYAAMAyCooKqn3NiG3ztfNChz6/0qVyGxdZo34RbK2JYAsAACwjtyBXoSHHXWMZErhaEHhZXUI075Yo5TtYVAr1h2BrTQRbAABgGfkF+dXvYctgXbNX3MKmeRNcOhjNolKoHwRbayLYAgAAS3C73SouLSbY4gSeCEOfT4jQ1tbc1Bh1Z5aWBroEnAWCLQAAsITi0uLqt/qRCLb4gc3QqhvD9XWvCHkDXQuszeORaXL9vtUQbOvByy+/rHbt2snpdGrgwIFavXr1SdvPmjVLXbp0kdPpVM+ePfXxxx9X22+aph5//HG1bNlS4eHhGjZsmHbs2NGQXQAAoMlze9zy+ryy24+7npJgix/ZNsShL4a6VMGiUqgDw+D3x2oItnX03nvvacqUKZo2bZrWrl2rXr16afjw4crOzq6x/YoVKzR27FhNnjxZ69at06hRozRq1Cht3rzZ3+Yvf/mLXnjhBb366qtatWqVIiMjNXz4cJWXlzdWtwAAaHJ8Pp9kSsbxaZZzT9TgcPcQzb/RpcJQTnVxFmz83liRYTLOXicDBw5U//799dJLL0mq+k83LS1NDzzwgB566KET2t96660qKSnRvHnz/NsGDRqk3r1769VXX5VpmkpNTdXUqVP1f//3f5KkgoICJScna8aMGRozZsxp1VVYWKiYmBgVFBQoOjq6HnoKAI2P9zIc73DOYb3w5guKj4tXhDNCkuTt75WZzKkMauYoNnX5f0uUUswdb3EG7HbFPPZYoKvAGeLjiDqorKxUenq6hg0b5t9ms9k0bNgwrVy5ssZjVq5cWa29JA0fPtzfPiMjQ5mZmdXaxMTEaODAgbU+JwAAzYHpM2XKZMQWp63SZejTCZH6LoVFpXAGmIZsSQTbOjhy5Ii8Xq+Sk5OrbU9OTlZmZmaNx2RmZp60/bE/z+Q5JamiokKFhYXVHgAABBPTNKumInPSiTNghhhacUu4VncLly/QxcAamIpsSfzUgsT06dMVExPjf6SlpQW6JAAA6pXP9DFii7P27bAwLbokUpV8MIJT4XfEkgi2dZCYmCi73a6srKxq27OyspSSklLjMSkpKSdtf+zPM3lOSXr44YdVUFDgf+zfv/+M+wMAQFNmmmbVqO3x55ycf+IMHOgdqvmjXCoO4RQYtTMYsbUkfmp14HA41LdvXy1cuNC/zefzaeHChRo8eHCNxwwePLhae0n6/PPP/e3bt2+vlJSUam0KCwu1atWqWp9TksLCwhQdHV3tAQBAMDm23uXxU5FNg4WjcGYK0uyae7tL2REhgS4FTRUjtpZEsK2jKVOm6PXXX9e//vUvbd26Vffee69KSkp0xx13SJImTJighx9+2N/+F7/4hRYsWKBnnnlG27Zt0xNPPKE1a9bo/vvvl1T1n/Uvf/lL/eEPf9BHH32kTZs2acKECUpNTdWoUaMC0UUAAJoE/4jt8Tj/xFmoiLHpkwmR2p3kCHQpaIoItpbER1V1dOuttyonJ0ePP/64MjMz1bt3by1YsMC/+NO+fftkO246wwUXXKB33nlHjz32mB555BF16tRJH374oXr06OFv8+tf/1olJSW6++67lZ+fr4suukgLFiyQ0+ls9P4BANBU+MyqpX+qLR7F+SfOkukwtGxshPIX2NTnu3J+lfADpiJbEvexDVLc+xFAMOC9DMfbtW+XXpn5itJapikkpOqzee9Ar8wkTmVQN23XuHXRyhKF8qsESUZ0tKJ/9atAl4EzxMcRAADAEkxfDYtHuQNWDoLI3n6h+uTaKJXYOTWGGLG1KH5qAADAEkx9v3jU8cmWYIt6ktvOrrm3uXQk3B7oUhBg3Cvbmgi2AADAEkzT9Idbv8rA1ILgVB5n08cTXdobz6JSzZkRHh7oEnAWCLYAAMASHKEO2W12eX1e/zbDzcgK6pfPYWjxuAht7OD88ccoaCYM1nSwJIItAACwhLCwMIXYQ+Txen7YyIgtGsjakU59OSBCnlM3RZCxEWwtiWALAAAswelwyh5il9fzw4gt19iiIe0e5NCCa1wqszEzoDkh2FoTwRYAAFhCTSO2RjmBAw3rSMcQzR0TpbwwFpVqLpiKbE0EWwAAYAlOh1MhIT+ailwRuHrQfJQm2jRvokv7Y0MDXQoaASO21kSwBQAAlmCz2RQeFi6v97ipyOWSfAErCc2I12lo4bgIbWnjDHQpaGAEW2si2AIAAMtwRbjk8Rw3FVkGC0ih8dgMfTPKqeV9IuQ9dWtYlBEVFegScBYItgAAwDJiomNU6flRki0PTC1ovnZc7NDnV7hUzqJSQceIiJAREhLoMnAWCLYAAMAyYqNjq93HVmIBKQRGZtcQzb8pSgUOFpUKJiwcZV0EWwAAYBmuCFfV9OPjlQWmFqAoxaa5E1w6FMWiUsGC62uti2ALAAAsIyI8QqbMatuMIkZsETieCEOfTYjQtlZhgS4F9YBga10EWwAAYBmR4ZGyGbZqKyMbhQRbBJjd0Nejw7WqZziLdFscU5Gti2ALAAAswxXhkiPUIbfH/cPGQnHLHzQJWy8L0xeXuVRh8GGLVdliYwNdAs4SwRYAAFiGK7Iq2FZUVvi3GT5DKglgUcBxDvUM0fwbXSoM5TTbiuwtWwa6BJwl/sUBAADLiHZFK9oVrdKy0mrbmY6MpqSwlV3zxkUpK5LbxliK0ylbQkKgq8BZItgCAADLMAxDaS3TVFr+o2BbQLBF01IZZWjBxEjtTGZRKasISU2VwTRyyyLYAgAAS2nZoqVMX/WVkVUYmFqAkzFDDH11a7jWdGVRKSuwp6YGugTUAcEWAABYSmJcomRIXt9xKyMzYosmbPMVYVp8caTcjAY2afZWrQJdAuqAYAsAACwlMT5R4c5wlZWX+bcZbkMqO8lBQIDt7xOqj693qTiE0++mimBrbfzLAgAAlhIfGy9XhEtlZdWTLAtIoanLa2PX3NtdyglnUammxoiKki0qKtBloA4ItgAAwFJC7CFKTU5VSdmP7vFTEJh6gDNREWPTxxMjtTvREehScBxGa62PYAsAACynVXIruT3uatsYsYVVmA5Dy26L0LpOTpmnbo5GQLC1PoItAACwnMT4REmSaf4QCwi2sJoNVzu1dHCkPPzqBlwIKyJbHsEWAABYTmJcopwOp8oryv3bjFJDKj/JQUATtKd/qD4ZEaVSO6flgcSIrfXxLwgAAFhOYlyiwsPDVVpeWm27kc3QF6znaAe75o5x6ajTHuhSmiVbYqKMsLBAl4E6ItgCAADLCXeGq0VCixNXRs4i2MKayhJsmj/JpX1xLCrV2BitDQ4EWwAAYElpLdOqTUWWJOOIIXkDVBBQRz6HoUXjI7SpPYtKNaaQ9u0DXQLqAcEWAABYUmpyqkzDlM/n828zvIaMXEZtYW3p1zr1Vb8IeQJdSHNgGArp1CnQVaAeEGwBAIAltW3VVlERUSoqKaq2netsEQx2XeDQp1e5VGbj97kh2Vu3li0iItBloB4QbAEAgCXFx8SrVUor5RfmV9tOsEWwyOkconm3RCkvjEWlGgqjtcGDYAsAACzJMAx1PaerKiorqt/PtsSQigNYGFCPSlrYNG+CSwdiQgNdSlAKPffcQJeAekKwBQAAltW2VVs5w5wnLiLFqC2CiDfc0BfjI/RtmjPQpQQVIzZW9hYtAl0G6gnBFgAAWFarlFaKj41XQVFBte0EWwQdm6HVNzi1oncEC3/Xk9DOnQNdAuoRwRYAAFhWaEioupzTRcWl1eceG0cNsaQsgtF3lzj0+TCXyllUqs5Cu3ULdAmoRwRbAABgaR3SOkiSPN4fkqxhGjJyOPFHcMrsFqL5N0WpIJRT+bNluFyyt2kT6DJQj/jXAAAALK1tq7aKiYpRYXFhte1MR0YwK0qxad74KB2OYlGpsxHatasMg/eIYEKwBQAAlhbtila7Vu1UUPij62yzDHExIoKZ22Xo0wkR2t4yLNClWE5o9+6BLgH1jGALAAAsr3OHznJ73dVv+1NpyMhkRAZBzm5o5c3hWt0jXL5A12IRTEMOTgRbAABgeW1T2yrSGamSspJq2419BFs0D99eHqaFl0aqkum1p8Q05OBEsAUAAJaXkpSipISkE6Yj247apOJaDgKCzMHzQjX/BpeKQjjFPxnH+ecHugQ0AH7rAQCA5dntdvXs3FMlZSXVpiNLkm0fpztoPgpa2zV3nEtZkSGBLqVJsrdpI3tKSqDLQAPgnR4AAASF7p27Kyoy6sTVkfeziBSal8pomxZMjNTOFiwq9WNhAwYEugQ0EIItAAAICilJKerUrpOO5B2ptt1ws4gUmh8zxNBXY8KV3oVFpY4xoqMV0rVroMtAAyHYAgCAoGAYhvp07yNJcrvd1fbZ9nLKg+Zp05VhWnJhpNx8tiNH374ybLwXBCt+sgAAIGh0bt9ZyYnJysnLqbbdyDWkogAVBQTYvr6h+uTaKJU050Wl7HY5+vYNdBVoQM34txsAAAQbZ5hTfXv0VXFJMYtIAcfJbWfX3NtcOhLePBeVCu3RQ7bIyECXgQbEOzwAAAgqtS4idYBFpNC8lcfa9PHESGUkOAJdSqMLGzgw0CWggRFsAQBAUElJTFHnDp11JLeGRaQOc6Ehmjefw9DS2yO0vqNT5qmbBwV7WprsLVsGugw0MIItAAAIKoZhqE+3PjIMQ5Xuymr7WEQKqLL+GqeWDYyUJ9CFNAIHt/hpFprnJHsAABDUOrfvrOSkZB3JPaLU5FT/diPPkI5KSghcbfXtkz9/ok//8mm1bS06tdAjqx6RJLnL3frfb/+ntXPWylPpUZfLuujmp29WVIuoWp/TNE19Mv0Tff3W1yorKFP7ge1189M3K+mcJEmSp8Kjd3/xrjZ9vEnRydG66ambdO6l5/qPX/TCIuUdzNPoJ0c3QI9RXzIGhqoowaXLPy1RhDc4x2+NqCiFdusW6DLQCPjYEgAABJ0wR5j69uiropKiExaRsm+zB6iqhpPSJUW/3/p7/+PnH//cv++DRz/Q5gWbNenNSXpg7gMqyCzQGxPeOOnzLXxhoZb9fZlufuZm/erzX8kR4dCrN70qd3nVbZRW/GuF9q/fr19++ksNnjBYb939lv/7fHTvUa18a6VGPDqi4TqMenOkY4jmjolSbljw/buQuMVPc8JPGQAABKUenXsoOipaBUUF1bYbeYaMrOC61tYWYlN0crT/4UpwSZLKCsu0auYqjfrDKHW+pLPSeqfptpduU8bqDO35Zk+Nz2Wappa9ukxXTr1SPa/pqdTuqbr9ldtVkFmgTfM3SZKyvstSj6t7qGXXlrrozotUfKRYJUdLJEmzps7StdOulTPa2Sh9R92VJdg0f6JL+2NDA11K/QoNlaNfv0BXgUZCsAUAAEGpRUILdT2nq47kHTlhn227TcG0cs6R3Uf0eLfH9f/6/D+9dfdbyjuQJ0nav36/vG6vOl/a2d82uXOy4lrH1Rpsj+49qsKswmrHhEeHq23ftv5jUnukavfXu1VZVqlti7YpOiVakQmRWjNrjUKcITpv5HkN1lc0DK/T0MIJkdrcLngWlQobNIhb/DQjBFsAABCUDMPQgF4DFBYapqKSour7CoNnheS2fdvqtpdu0z2z7tFNT9+ko3uP6oVrXlB5UbmKsotkd9gVERNR7ZioFlEqzC6s8fmKsqq+V1FJ1a/BjUr64ZhBtw9Sqx6t9OfBf9bnf/1ck96YpNL8Un0y/RON/vNozf/jfP2h7x/0yuhXlH8ov/47jQaz5jqnlveNsPyiUkZEhMIuvDDQZaARsXgUAAAIWh3bdlT3c7srfVO6XBEuGcYPYda23SZvitfyH/N3u+KHhXFSu6eqbb+2+v15v9f6D9crNLxhppbaQ+266ambqm175753dMndl+jgpoPaNH+THlz2oBa9sEhzHpqjn/z7Jw1SBxrGzgsdKkqw6bIvSuT0WXP8NmzIEBlhYYEuA43I4m/lAAAAtTMMQxf1vUgRzggVFlcfoTRKDBkHg2PU9ngRMRFK6piknIwcRbWIkrfSq9KC0mptirKLFN0iusbjo5KrRmqLcqqPchfl1H7Mji93KHN7pi6+62Lt+GqHul3RTWGRYeo9qrd2Lt9ZD71CY8vqEqJ5t0Qp32G9RaWM+HiurW2GCLZ1kJubq9tvv13R0dGKjY3V5MmTVVxcfNJjysvLdd999ykhIUEul0ujR49WVlaWf/+GDRs0duxYpaWlKTw8XF27dtXzzz/f0F0BACBotWvdTud1PU/ZR7NPWCHZ9p1N8gaosAZSUVyhoxlHFZ0crbTeabKH2rVj6Q7//qwdWco7kKd2/dvVeHxC2wRFJ0dXO6a8sFx70/fWeIy73K3ZD87WLX+9RTa7TabXlNdd9U31erzyeX312j80nuIWNs2b4NLBaGstKhU+bBgrITdD/MTr4Pbbb9eWLVv0+eefa968eVq2bJnuvvvukx7zq1/9SnPnztWsWbO0dOlSHTp0SDfeeKN/f3p6ulq0aKGZM2dqy5YtevTRR/Xwww/rpZdeaujuAAAQlAzD0EX9LpIrwqX8wvzq+8oMGfutPWr7v9/+TzuX79TRfUeVsSpD/xz/Txl2Q31H91V4dLgGjhuoDx/7UDu+3KH96/frP/f/R+36t6sWUv808E/aOG+jpKrv1yX3XKLPnvlMmz/ZrEPfHtLMn81UTEqMeo7oecLrf/b0Z+p2RTe1Pq+1JKn9wPbaOG+jDm05pK9e/0odBnZolO8DGoYnwtDnEyK0tbU1pvXaWrdWaNeugS4DAWCYP/7oEqdl69at6tatm7755hv1+36qw4IFC3TNNdfowIEDSk1NPeGYgoICJSUl6Z133tFNN1Vdl7Jt2zZ17dpVK1eu1KBBg2p8rfvuu09bt27VokWLTru+wsJCxcTEqKCgQNHRNU8bAoCmjvcy1Kf3F7yvZauXqVO7TtWutTXDTHkv90rWm3EpSfrX5H9p18pdKsktkSvBpQ6DOmjEYyOU2D5RUtWI6v9++z+tfX+tPJUedbm8i2566iZFJ//wb+qX8b/U2JfGauBtAyVV3fLnk+mfaOW/V6qsoEwdBnXQTU/dpBYdW1R77cPfHtY/J/xTDy59UGGRVcHH5/Pp/V+/r/RZ6WrRqYXG/328kjokNdJ3Aw2py9JK9d9Q2qT/qUT+5CcKSUsLdBkIAILtWXrjjTc0depU5eXl+bd5PB45nU7NmjVLN9xwwwnHLFq0SEOHDlVeXp5iY2P929u2batf/vKX+tWvflXja40bN07l5eWaPXv2adfHySCAYMB7GepTZk6m/jbzbwqxhyghLqHaPm9Xr8xzOCUCTqXlFo8uXVyisCa4qFRI166KvOWWQJeBAGEq8lnKzMxUixbVP7UMCQlRfHy8MjMzaz3G4XBUC7WSlJycXOsxK1as0HvvvXfKKc4VFRUqLCys9gAAAD9ISUpR//P662j+Ufl81a/7tO20Se4AFQZYyOHuIZp/o0uFoU0rRpg2m5xDhwa6DARQ0/qNbAIeeughGYZx0se2bdsapZbNmzfr+uuv17Rp03TllVeetO306dMVExPjf6QxBQMAgBMM7jNYcTFxOpp3tNp2w23Ito3TIuB0FKbaNW98lDJdTefOoWF9+8qekHDqhghaTee3sYmYOnWqJk2adNI2HTp0UEpKirKzs6tt93g8ys3NVUpKSo3HpaSkqLKyUvn5+dVGbbOysk445ttvv9XQoUN1991367HHHjtl3Q8//LCmTJni/7qwsJBwCwDAjyTGJ2pQn0H6ePHHSohLkO24lVONvYaUKolzY+CUKl2GPp0QqcFzytU5syKwxTgcChsyJLA1IOAItj+SlJSkpKRTL3AwePBg5efnKz09XX379pVUdQ2tz+fTwIEDazymb9++Cg0N1cKFCzV69GhJ0vbt27Vv3z4NHjzY327Lli26/PLLNXHiRP3xj388rbrDwsIUxk2oAQA4pUG9B2nNxjXKzs1WSuIPHywbMmTfaJf3EusuJAU0JjPE0IpbwlXwhU19vy0L2FRQ58UXyxYZGaBXR1PBnJuz1LVrV1111VW66667tHr1ai1fvlz333+/xowZ418R+eDBg+rSpYtWr14tSYqJidHkyZM1ZcoULV68WOnp6brjjjs0ePBg/4rImzdv1mWXXaYrr7xSU6ZMUWZmpjIzM5WTkxOwvgIAEExio2M1+PzBKiwqlMfjqbbPKDGq7m0L4LRtGRamRZdEqtJo/FtnGampclxwQaO/Lpoe3rnr4O2331aXLl00dOhQXXPNNbrooov097//3b/f7XZr+/btKi0t9W979tlnNXLkSI0ePVqXXHKJUlJSNGfOHP/+2bNnKycnRzNnzlTLli39j/79+zdq3wAACGaDeg9Su9bttD9z/wn7jF2GlN/4NQFWdqB3qOaPcqk4pPHihWm3K/KGG2TYiDTgdj9Bi1tkAAgGvJehIX2741v9a86/FBMVo5iomGr7zChT3ou9DAEAZyiswKehs0rVotRz6sZ15LjySoUfdzkfmjfergEAQLPUtWNXDew9UJk5mfJ6vdX2GUWGjJ2NP60SsLqKGJs+mRCp3UmOBn0dd3KynN9fygdIBFsAANBMGYahoRcMVVrLNB3IPHDCftsOm8Rt4YEzZjoMLRsbobWdnWqIqaFem01xY8bICMA1vWi6CLYAAKDZiomK0ZUXXynTNFVUUlRtn2FWrZLcIGfmQDOw8SqnllwQKXc958+wK6+U/bhbZwISwRYAADRzPc/tqX49++lw1mF5fT+akpxvyNjNqBBwtvb2C9WCEVEqsddP7HC3aqXIWm6tieaNYAsAAJo1m82mKy66QiktUnQ46/CJ+7fbpJIAFAYEiaMd7Jp7m0tHnXW7QbQnJETxY8bUU1UINgRbAADQ7MXHxuuKi66Q2+NWSWn1FGv4DNnX2yVfgIoDgkB5nE3zJ7m0N/7sF5WKGDlSNperHqtCMCHYAgAASOrTrY96d+utg1kH5fNVT7FGniHbFk6bgLrwOQwtHhehjR3OfFEpT4cOCu/Vq0HqQnDgHRoAAECS3W7X8IuHKykhSZk5mSfst+21ydjH9bZAXa0d6dSXAyJ0une6dTscir/ppgatCdZHsAUAAPheUkKShl0wTGXlZSotLz1hv22zTcoLQGFAkNk9yKEF17hUZjv5h0VeSa4xY2SEhzdOYbAsgi0AAMBx+p3XT7279db+w/vl8VYfUzJ8huzpdqk8QMUBQeRIxxDNHROlvLDaF5UyhwyRs337RqwKVkWwBQAAOE6IPUTXDbtO7Vu3194De2Wa1a8GNMq/D7csJgXUWWmiTfMmurQ/NvSEfQVpaUq49NLGLwqWRLAFAAD4kdjoWN04/EbFRMXoUPahE/azmBRQf7xOQwvHRWhLG6d/W57TqdRx4wJYFayGd2QAAIAatG3VViMuHyG3x628ghMvrGUxKaAe2Qx9M8qpxV0NFdoMxY4bpxDH2d8aCM0PwRYAAKAWfXv01aUDL9WRvCMqKy87YT+LSQH1a+/FUSq+/TrFtmoV6FJgMQRbAACAWhiGoSsuvELndz9f+w/VspjUGhaTAuqD6TXV+2gPde3QO9ClwIIItgAAACfhcDh0/RXXq31aLYtJVXy/mJQ3QAUCQaLN7ha6pPuwQJcBiyLYAgAAnEJMVIxuvOpGxUbH6lBWLYtJrbOxUjJwlqK3OXRt75tkGFy3jrNDsAUAADgNbVLbaMTlI+TxempeTCrTJtt6wi1wpiq3lWnUubcolMWiUAcEWwAAgNN0fvfzdemgkywmdcgm2wabZNZwMIATeA97dVvH8YqLTwh0KbA4gi0AAMBpOn4xqX2H9sntdp/QxnbQJttGwi1wKu79bo10jVSrJFZARt0RbAEAAM5AaGiorr/ienU9p6syDmTI7akh3O63ybaJ0yygNuUZ5bo85HJ1btM50KUgSPCOCwAAcIZiomI05tox6ty+szL21xJu99mq7nMLoJrSnaUa6B6oPl37BLoUBBHebQEAAM5CXEycxl47Vp3adVLG/owT7nErSbY9Ntm2cLoFHFO8vVjdC7vrkv6XsAIy6hXvtAAAAGcpPjZeY64do3PanKPd+3bL6z3xZra2DJtsWznlAoq3Fuu8kvN0zaXXyGbj3wTqF79RAAAAdZAYl6ix145V+9bttWvfrprD7S6bbNs57ULzVbSlSL0re+uaS69RiD0k0OUgCPEOCwAAUEdJCUkae91YtW3VVrv31zJyu8Mm4zumXqL5KdpUpL6+vrr6kqtlt9sDXQ6CFMEWAACgHiQnJmvsdWOV1jKtKtz6Tgy39u/sVQtKcSsgNBOFGwo10DZQwy8azvRjNCh+uwAAAOpJy6SWGnvtWLVKbqWM/Rny+XwntLHtscm2xiaduNYUEFQK1xXqAscFGnrBUEItGhy/YQAAAPUoNTlVY68bq5SklNrDbZZN9pV2qTwABQINzPSayluWp4sjLtblgy8n1KJR8FsGAABQz1qntNbYa8cqKSGp1mtujQJD9uV2qSgABQINxFfm05F5R3R5y8s1ZOAQbumDRkOwBQAAaABtUtto3KhxSmuZpl37dqnSXXlCG6OsKtwa2Zz8w/rcOW7lvJ+jq3tcrYv7X0yoRaMi2AIAADSQtJZpmjh6orp16qY9B/aotKz0hDaGx5BttU3GLkIArKtse5mOfnRU1154rS7oewGhFo2OYAsAANCAEmITNO76cRrQa4AOZh1UQVHBCW0MGbJvtcu2ziadOGsZaLp8Uu7SXFWurtTNV92sQX0GEWoRENwdGQAAoIFFRkTqlmtuUZQrSktXLVVlZaWSEpJOaGc7aJNRbMjbzyuFB6BQ4AyY5aYOzz+sFFuKbhx9o9q2ahvoktCMMWILAABwEsuXL1fPnj0VGhqqUaNGndYxTzzxhHr37l1tW2hoqEZeNlLXDb1OlZ5K7Tu0r8YVk40CQ/Yv7dLReigeaCDeo17t/89+dYvrpjtuuoNQi4Aj2AIAgDrLycnRvffeqzZt2igsLEwpKSkaPny4li9fHujS6mzKlCnq3bu3MjIyNGPGjDo9l81m05CBQ3Tbdbcp2hWtXft2ye1xn9DOqDRkX2mX7VumJqPpKfuuTJlzMnV5n8s19tqxio2ODXRJAFORAQBA3Y0ePVqVlZX617/+pQ4dOigrK0sLFy7U0aPWH3bctWuX7rnnHrVu3brenrNH5x6Kj4nXnE/n6Ls93yktJU0R4RHV2hgyZOw2ZGQb8vb2SrH19vLA2fFIR786Kvs+u265+hb17dGX62nRZDBiCwAA6iQ/P19ffvmlnnzySV122WVq27atBgwYoIcffljXXXed9uzZI8MwtH79+mrHGIahJUuW+Ldt2bJFI0eOVHR0tKKionTxxRdr165d/v1vvPGGunfvrrCwMLVs2VL3339/tee78847lZSUpOjoaF1++eXasGGDf/+GDRt02WWXKSoqStHR0erbt6/WrFkjSdq7d6+uvfZaxcXFKTIyUt27d9fHH3/sr/vo0aP6yU9+IsMwNGPGDM2YMUOxsbHVvgcffvjhGZ/gpyanauLoiRrYa6AOZh9Ubn5uje2M4u9vCfSdIZ04cxloFL4sn/a+vVdxeXGaOHqi+vXsR6hFk0KwBQAAdeJyueRyufThhx+qoqLirJ7j4MGDuuSSSxQWFqZFixYpPT1dP/nJT+TxeCRJr7zyiu677z7dfffd2rRpkz766CN17NjRf/zNN9+s7OxsffLJJ0pPT9f555+voUOHKje3Kizefvvtat26tb755hulp6froYceUmhoqCTpvvvuU0VFhZYtW6ZNmzbpySeflMvlUlpamg4fPqzo6Gg999xzOnz4sG699dY6freqi4qM0i0jbtHVl1ytkrIS7T24V17viXOPDdOQ/Tu77MvtUlG9lgCcnFsq/7pce2ftVa+0XrrjpjvUrnW7QFcFnICpyAAAoE5CQkI0Y8YM3XXXXXr11Vd1/vnna8iQIRozZozOO++803qOl19+WTExMXr33Xf9gbNz587+/X/4wx80depU/eIXv/Bv69+/vyTpq6++0urVq5Wdna2wsDBJ0tNPP60PP/xQs2fP1t133619+/bpwQcfVJcuXSRJnTp18j/Pvn37NHr0aPXs2VOS1KFDB/++lJQUGYahmJgYpaSknM2355RCQ0J15cVXqlVKKy1YukC79u1Sy6SWinJFndD22MJSvi4+me1NiQEzNKRMKWdxjioKKzTswmG68qIr5XA4Al0VUCNGbAEAQJ2NHj1ahw4d0kcffaSrrrpKS5Ys0fnnn3/aiy2tX79eF198sT/UHi87O1uHDh3S0KFDazx2w4YNKi4uVkJCgn/02OVyKSMjwz+VecqUKbrzzjs1bNgw/fnPf642xfnnP/+5/vCHP+jCCy/UtGnTtHHjxjP/BtSRYRjq0bmH7hpzly7se6GO5h/V/sP7a1412WfI/q1d9pV2qaTRS0VzUCF5vvYoY3aGHB6HbrnmFo24bAShFk0awRYAANQLp9OpK664Qr/97W+1YsUKTZo0SdOmTZPNVnW6YZqmv63bXX0l4PDw2m/aerJ9klRcXKyWLVtq/fr11R7bt2/Xgw8+KKnq9jtbtmzRiBEjtGjRInXr1k0ffPCBJOnOO+/U7t27NX78eG3atEn9+vXTiy++WOvr2Wy2an2pqT9nKyYqRjddfZNuu/42xUTFaMfeHSoprTm9GrmG7MvsMvYybIt6dEDKmZWjg+kH1btrb9015i71P68/19OiySPYAgCABtGtWzeVlJQoKSlJknT48GH/vuMXkpKk8847T19++WWNATEqKkrt2rXTwoULa3yd888/X5mZmQoJCVHHjh2rPRITE/3tOnfurF/96lf67LPPdOONN+rNN9/070tLS9M999yjOXPmaOrUqXr99ddr7VdSUpKKiopUUvJD4Pxxf+rCZrOpT7c+unvs3RrYa6CyjmbpYNbBmkdvvYbsm+yyrbJJxfVWApqjMsn9lVu7P9gtp82pm6+5WeNuGKeWLVoGujLgtBBsAQBAnRw9elSXX365Zs6cqY0bNyojI0OzZs3SX/7yF11//fUKDw/XoEGD9Oc//1lbt27V0qVL9dhjj1V7jvvvv1+FhYUaM2aM1qxZox07duitt97S9u3bJVWNuD7zzDN64YUXtGPHDq1du9Y/qjps2DANHjxYo0aN0meffaY9e/ZoxYoVevTRR7VmzRqVlZXp/vvv15IlS7R3714tX75c33zzjbp27SpJ+uUvf6lPP/1UGRkZWrt2rRYvXuzfV5OBAwcqIiJCjzzyiHbt2qV33nmnzve3rUlCbILGjByjW0fcqojwCO3cu1Nl5WU1trXl2GRfapdtk00qr/dSEMxMSXukrPeylLkpU/3P66+fjvmpBp8/WCF2luOBdfDbCgAA6sTlcmngwIF69tlntWvXLrndbqWlpemuu+7SI488IqnqVj2TJ09W3759de655+ovf/mLrrzySv9zJCQkaNGiRXrwwQc1ZMgQ2e129e7dWxdeeKEkaeLEiSovL9ezzz6r//u//1NiYqJuuukmSVXXp3788cd69NFHdccddygnJ0cpKSm65JJLlJycLLvdrqNHj2rChAnKyspSYmKibrzxRv3ud7+TJHm9Xt133306cOCAoqOjddVVV+nZZ5+ttb/x8fGaOXOmHnzwQb3++usaOnSonnjiCd199931/r212+0a0GuA2rVup4+XfKwNWzfIFeFScmLyCVNDDdOQsdeQccCQ7xyfzA4mZ3o4KSPbUNn6Mh3adkgpLVJ0xbAr1KdbH9nt9kCXBpwxw/zxRSIICoWFhYqJiVFBQYGio6MDXQ4AnBXey4AfuD1urV6/Wl8s/0J5hXlKa5kmZ5iz1vZmmClfZ5/MNJM5eqjuqKRvpYPfHpQknd/jfF150ZWKj40PbF1AHfA5HgAAgAWEhoTqwn4Xqn1ae81fMl9bd25ViD1EqcmpCg05cTVpo6Lq+lszw6y6PVAKYxnNXr5k22ZTUUaRMnMyldYyTVdefKV6ntvTv8gbYFWM2AYpRjkABAPey4Caebwebdy2UUtXLdXeg3sVGR6p5MTkk04hNeNNebt6pbhGLBRNQ6Fk225T5b5KHco+pBB7iAb0HqBhFwxTTFRMoKsD6gXBNkhxMgggGPBeBpxcWXmZ1m5eq6XfLFVWTpbiYuKUGJd40luz+Fr65OvikyIbsVAERolk+84md4Zbh7MPyzRNdWzXUUMGDFGXc7pwCx8EFYJtkOJkEEAw4L0MOD0FRQX6et3XWrF2hfIL89UioYViomJqDS6mYcpMMeVr55MSGrlYNLwyybbDJu9urw5lHZLH41GHNh10cf+L1b1zd1Y7RlAi2AYpTgYBBAPey4Azk300W19+86XSN6ertKxULVu0lCvCddJjzChTvvY+ma1MicVwrS1fsu21ybfXp8ysTJVVlqltaltdMuASnXfueQoNPfFabCBYEGyDFCeDAIIB72XAmTNNU/sO7dPSVUu16btN8vl8atWilcLCwk5+XKgps40pX1ufFNFIxaLuPJJx0KgKtHk+ZR3JUnFpsdJapumifhepd7feJ109GwgWBNsgxckggGDAexlw9nw+n7bv3q4lXy/Rjr07ZLfZ1SKhhSLCT55aTZkyk02Z7U2ZiZwmNln5km2fTcZBQz63TzlHc1RYXKiUpBRd3P9ind/9/FP+rIFgwgR7AACAIGSz2dS1Y1d1bNdRm7Zt0qoNq5SxP0OV7kolxCUoLjquxmtwDRkysgwpSzJdx01T5qwx8DyScahqdNYoMOTxeHQk/4gKiwrVIqGFLh98ufqd109RkVGBrhRodIzYBilGOQAEA97LgPrj9XqVsT9D675dp03bN6mgqECuSJeS4pNqvA/u8cwQU2arqgWnzART4panjavgh9FZuaXi0mIdyT0ir8+rpPgk9evZTwN7D+TWPWjWCLZBipNBAMGA9zKgYRzJPaKN2zfqm43fKDMnU3Z71TTlyPBT3wPIDPl+qnKKKTOJkdwGUygZ2YZsmTYZ+YY8Xo+O5h1VQVGBIsMj1b5Ne/Xt3lddzunClGNABNugxckggGDAexnQsMrKy7R151Z9s+kb7d63WxWVFYqPjVdcdJxstlMPy5q2qnBrplSFXTkaoehg5ZWMI4aM7O8fZYZM01RJWYmO5B6Rx+tRYnyizu92vrp37q60lmnchxY4DsE2SHEyCCAY8F4GNA6fz6eMAxlav2W9Nm7fqPzCfEVGRCo+Jl7OMOdpBShTVdOUzZSqh8IboXCrK9UPQfaIIcNX9X32er06mn9U+YX5inBGVI3O9uirLh26KDLi1KPqQHNEsA1SnAwCCAa8lwGN70jeEW3evlnpm9OVfTRb5RXlinBGKDYmVpHhkac9SmjGfD+aG1v1EHeckXyS8iRbtk1GliGj+Ifvpc/nU1FJkfIK8uT2uJUUn6ReXXvpvC7nqXVK69MaQQeaM4JtHeTm5uqBBx7Q3LlzZbPZNHr0aD3//PNyuWq/EXp5ebmmTp2qd999VxUVFRo+fLj+9re/KTk5+YS2R48eVa9evXTw4EHl5eUpNjb2tGvjZBBAMOC9DAgcj9ejA4cPaPf+3dq8fbMyczJVWlYqh8Oh2OhYRUVGnVHYMp2mzLjjgm6Mgvv6XJ+kEskoNGQUGFXXzOYbMjw/hNmKygoVFBWoqLhIPvkUFRGltNQ09enWR13P6SpXZO3nlACqI9jWwdVXX63Dhw/rtddek9vt1h133KH+/fvrnXfeqfWYe++9V/Pnz9eMGTMUExOj+++/XzabTcuXLz+h7ahRo1RZWalPPvmEYAugWeK9DGgafD6fMnMylbE/Q1t2btG+Q/tUXFIsu92u2OhYxbhiZLfbz+g5TZlSlPxB14yt+tqSKy57JBVJRoFRFWQLvw+yvuqj26Zpqri0WAVFBSotK1VoaKjiYuLUuV1nndP2HLVt1VbxMfFcOwucBYLtWdq6dau6deumb775Rv369ZMkLViwQNdcc40OHDig1NTUE44pKChQUlKS3nnnHd10002SpG3btqlr165auXKlBg0a5G/7yiuv6L333tPjjz+uoUOHEmwBNEu8lwFNj2maOpp3VLv379a23du0a+8uFRYXypChaFe0IiMjFR4WflbhzLSZUrRkhlddo2s6j/vTqapHoDKfKalSUrlklBtVQfbYaGxJ1f1/a+L2uFVYVKiC4gJ5vV5FhkcqOTFZ3Tp2U9vWbZXWMk3OMOZpA3UVzBNAGtTKlSsVGxvrD7WSNGzYMNlsNq1atUo33HDDCcekp6fL7XZr2LBh/m1dunRRmzZtqgXbb7/9Vr///e+1atUq7d69u+E7AwAAcJoMw1BifKIS4xM1oNcAFRQVKGN/hr7L+E47MnboaN5RlVeUS5KcYU5FRkQqMjxSjlDHKcOu4TOk/KopuzUxDVMKk+T8Pvwe96cc3++XqsLvyR7Ht/FKckuG26gKrm7JqKy6X6wqvg+x5aoKtObJ6zdNU+UV5SotK1VpeanKK8pls9kUExWjPt37qHO7zmqT2kYtElpwzSxQzwi2ZykzM1MtWrSoti0kJETx8fHKzMys9RiHw3HCyGtycrL/mIqKCo0dO1ZPPfWU2rRpc9rBtqKiQhUVFf6vCwsLz6A3AAAAZycmKka9u/VW7269VVlZqZzcHGUdzVJWTpb2HNyjrCNZOpx9WG6PW4ZhKMIZ4Q+7ISFndipqmMeFzFrCb2Pxer0qKy9TaXmpSstK5fa4JVWF+YjwCLVr3U5tU9uqbauqB6sZAw2LYPsjDz30kJ588smTttm6dWuDvf7DDz+srl27aty4cWd03PTp0/W73/2ugaoCAAA4NYfDoVYprdQqpZV/W0lpibKOZin7SLYOZR/S3gN7lVuQqyN5R+Tz+WS32RUWFiZHqEOOUIdCQ0PlCHUoxN40TlNN05Tb464KsWWlKisvk9f0ymbYFO4MlyvCpQ5pHdS6ZWslxiUqMS5RCXEJTC8GGlnTeMdoQqZOnapJkyadtE2HDh2UkpKi7Ozsats9Ho9yc3OVkpJS43EpKSmqrKxUfn5+tVHbrKws/zGLFi3Spk2bNHv2bElVb6aSlJiYqEcffbTW8Prwww9rypQp/q8LCwuVlpZ20n4AAAA0tMiISHWI6KAOaR0kVZ3b5Bfm/xB2sw4pJy9HhUWFqqisUFFxkSrdlfKZvqonMCW73e4Pvg5HVfgNDQmtuq7VULU/j013Ptm0Z5/PJ4/XI4/XI6/H6/+72+2W2+P2j77q+5nNIaEhCg8LV1xMnHp17aWUpBR/iI2LjWsyIRxozvhX+CNJSUlKSko6ZbvBgwcrPz9f6enp6tu3r6SqUOrz+TRw4MAaj+nbt69CQ0O1cOFCjR49WpK0fft27du3T4MHD5Ykvf/++yorK/Mf88033+gnP/mJvvzyS51zzjm11hMWFqawsLDT7icAAEAgGIahuJg4xcXEqUuHLv7tXq9XJWUlKiktUXFpsYpLi/1/z83PVV5+ngqKCqrCb0mRPB6PTNOsWl3ZrFpl+diAwI/XRj0+5JoyZZNN9hC7QuwhPzxCQhQXHafY6FjFxcQpKjKqasr099Om42LiFO2KZsVioIki2J6lrl276qqrrtJdd92lV199VW63W/fff7/GjBnjXxH54MGDGjp0qP79739rwIABiomJ0eTJkzVlyhTFx8crOjpaDzzwgAYPHuxfOOrH4fXIkSP+1zuTVZEBAACsxG63K9oVrWhX7Suge71elZaXqri0WGXlZVXB1lcVbn0+X1W49VUFXJ/pq9pvVv/62NTn8LBwhTnC5AxzKswRpjBHGAs6ARZGsK2Dt99+W/fff7+GDh0qm82m0aNH64UXXvDvd7vd2r59u0pLS/3bnn32WX/biooKDR8+XH/7298CUT4AAICl2O12RUVGKSoyKtClAGhiuI9tkOLejwCCAe9lAADgdDDfAgAAAABgaQRbAAAAAIClEWwBAAAAAJZGsAUAAAAAWBrBFgAAAABgaQRbAAAAAIClEWwBAAAAAJZGsAUAAAAAWBrBFgAAAABgaQRbAAAAAIClEWwBAAAAAJZGsAUAAAAAWBrBFgAAAABgaQRbAAAAAIClEWwBAAAAAJZGsAUAAAAAWBrBFgAAAABgaQRbAAAAAIClEWwBAAAAAJZGsAUAAAAAWBrBFgAAAABgaQRbAAAAAIClEWwBAAAAAJZGsAUAAAAAWBrBFgAAAABgaQRbAAAAAIClEWwBAAAAAJZGsAUAAAAAWBrBFgAAAABgaQRbAAAAAIClEWwBAAAAAJZGsAUAAAAAWBrBFgAAAABgaQRbAAAAAIClEWwBAAAAAJZGsAUAAAAAWBrBFgAAAABgaQRbAAAAAIClEWwBAAAAAJZGsAUAAAAAWBrBFgAAAABgaQRbAAAAAIClEWwBAAAAAJZGsAUAAAAAWBrBFgAAAABgaSGBLgANwzRNSVJhYWGAKwGAs3fsPezYexoAAEBNCLZBqqioSJKUlpYW4EoAoO6KiooUExMT6DIAAEATZZh8DB6UfD6fDh06pKioKBmGEehyalVYWKi0tDTt379f0dHRgS6nXgVz3yT6Z3VW6Z9pmioqKlJqaqpsNq6eAQAANWPENkjZbDa1bt060GWctujo6CZ9cl0Xwdw3if5ZnRX6x0gtAAA4FT7+BgAAAABYGsEWAAAAAGBpBFsEVFhYmKZNm6awsLBAl1LvgrlvEv2zumDvHwAAaF5YPAoAAAAAYGmM2AIAAAAALI1gCwAAAACwNIItAAAAAMDSCLYAAAAAAEsj2KJB5ebm6vbbb1d0dLRiY2M1efJkFRcXn/SY8vJy3XfffUpISJDL5dLo0aOVlZVVY9ujR4+qdevWMgxD+fn5DdCDk2uI/m3YsEFjx45VWlqawsPD1bVrVz3//PMN3RVJ0ssvv6x27drJ6XRq4MCBWr169Unbz5o1S126dJHT6VTPnj318ccfV9tvmqYef/xxtWzZUuHh4Ro2bJh27NjRkF2oVX32ze126ze/+Y169uypyMhIpaamasKECTp06FBDd6NW9f2zO94999wjwzD03HPP1XPVAAAA9YNgiwZ1++23a8uWLfr88881b948LVu2THffffdJj/nVr36luXPnatasWVq6dKkOHTqkG2+8sca2kydP1nnnndcQpZ+Whuhfenq6WrRooZkzZ2rLli169NFH9fDDD+ull15q0L689957mjJliqZNm6a1a9eqV69eGj58uLKzs2tsv2LFCo0dO1aTJ0/WunXrNGrUKI0aNUqbN2/2t/nLX/6iF154Qa+++qpWrVqlyMhIDR8+XOXl5Q3alx+r776VlpZq7dq1+u1vf6u1a9dqzpw52r59u6677rrG7JZfQ/zsjvnggw/09ddfKzU1taG7AQAAcPZMoIF8++23piTzm2++8W/75JNPTMMwzIMHD9Z4TH5+vhkaGmrOmjXLv23r1q2mJHPlypXV2v7tb38zhwwZYi5cuNCUZObl5TVIP2rT0P073s9+9jPzsssuq7/iazBgwADzvvvu83/t9XrN1NRUc/r06TW2v+WWW8wRI0ZU2zZw4EDzpz/9qWmapunz+cyUlBTzqaee8u/Pz883w8LCzP/85z8N0IPa1XffarJ69WpTkrl37976KfoMNFT/Dhw4YLZq1crcvHmz2bZtW/PZZ5+t99oBAADqAyO2aDArV65UbGys+vXr5982bNgw2Ww2rVq1qsZj0tPT5Xa7NWzYMP+2Ll26qE2bNlq5cqV/27fffqvf//73+ve//y2bLTC/xg3Zvx8rKChQfHx8/RX/I5WVlUpPT69Wl81m07Bhw2qta+XKldXaS9Lw4cP97TMyMpSZmVmtTUxMjAYOHHjSvta3huhbTQoKCmQYhmJjY+ul7tPVUP3z+XwaP368HnzwQXXv3r1higcAAKgnBFs0mMzMTLVo0aLatpCQEMXHxyszM7PWYxwOxwnhIDk52X9MRUWFxo4dq6eeekpt2rRpkNpPR0P178dWrFih995775RTnOviyJEj8nq9Sk5OPu26MjMzT9r+2J9n8pwNoSH69mPl5eX6zW9+o7Fjxyo6Orp+Cj9NDdW/J598UiEhIfr5z39e/0UDAADUM4ItzthDDz0kwzBO+ti2bVuDvf7DDz+srl27aty4cQ3y/IHu3/E2b96s66+/XtOmTdOVV17ZKK+JM+N2u3XLLbfINE298sorgS6nXqSnp+v555/XjBkzZBhGoMsBAAA4pZBAFwDrmTp1qiZNmnTSNh06dFBKSsoJi9d4PB7l5uYqJSWlxuNSUlJUWVmp/Pz8aqOaWVlZ/mMWLVqkTZs2afbs2ZKqVt6VpMTERD366KP63e9+d5Y9qxLo/h3z7bffaujQobr77rv12GOPnVVfTldiYqLsdvsJq0/XVNcxKSkpJ21/7M+srCy1bNmyWpvevXvXY/Un1xB9O+ZYqN27d68WLVrU6KO1UsP078svv1R2dna1GRFer1dTp07Vc889pz179tRvJwAAAOqIEVucsaSkJHXp0uWkD4fDocGDBys/P1/p6en+YxctWiSfz6eBAwfW+Nx9+/ZVaGioFi5c6N+2fft27du3T4MHD5Ykvf/++9qwYYPWr1+v9evX6x//+IekqpPx++67z/L9k6QtW7bosssu08SJE/XHP/6xzn06FYfDob59+1ary+fzaeHChdXqOt7gwYOrtZekzz//3N++ffv2SklJqdamsLBQq1atqvU5G0JD9E36IdTu2LFDX3zxhRISEhqmA6fQEP0bP368Nm7c6P83tn79eqWmpurBBx/Up59+2nCdAQAAOFuBXr0Kwe2qq64y+/TpY65atcr86quvzE6dOpljx4717z9w4IB57rnnmqtWrfJvu+eee8w2bdqYixYtMtesWWMOHjzYHDx4cK2vsXjx4oCsimyaDdO/TZs2mUlJSea4cePMw4cP+x/Z2dkN2pd3333XDAsLM2fMmGF+++235t13323GxsaamZmZpmma5vjx482HHnrI33758uVmSEiI+fTTT5tbt241p02bZoaGhpqbNm3yt/nzn/9sxsbGmv/73//MjRs3mtdff73Zvn17s6ysrEH70tB9q6ysNK+77jqzdevW5vr166v9nCoqKhq1bw3Rv5qwKjIAAGjKCLZoUEePHjXHjh1rulwuMzo62rzjjjvMoqIi//6MjAxTkrl48WL/trKyMvNnP/uZGRcXZ0ZERJg33HCDefjw4VpfI5DBtiH6N23aNFPSCY+2bds2eH9efPFFs02bNqbD4TAHDBhgfv311/59Q4YMMSdOnFit/X//+1+zc+fOpsPhMLt3727Onz+/2n6fz2f+9re/NZOTk82wsDBz6NCh5vbt2xu8HzWpz74d+7nW9Dj+Z92Y6vtn92MEWwAA0JQZpvn9BYoAAAAAAFgQ19gCAAAAACyNYAsAAAAAsDSCLQAAAADA0gi2AAAAAABLI9gCAAAAACyNYAsAAAAAsDSCLQAAAADA0gi2AAAAAABLI9gCAAAAACyNYAsAAAAAsDSCLQAAAADA0gi2AAAAAABLI9gCAAAAACyNYAsAAAAAsDSCLQAAAADA0gi2AAAAAABLI9gCAAAAACyNYAsAAAAAsDSCLQAAAADA0gi2AAAAAABLI9gCAAAAACyNYAsAAAAAsDSCLQAAAADA0gi2AAAAAABLI9gCAAAAACyNYAsAAAAAsDSCLQAAAADA0gi2AAAAAABLI9gCAAAAACyNYAsAAAAAsDSCLQAAAADA0gi2AAAAAABLI9gCAAAAACzt/wOZ99Ypv+9awwAAAABJRU5ErkJggg==' width=950.0/>\n",
       "            </div>\n",
       "        "
      ],
      "text/plain": [
       "Canvas(toolbar=Toolbar(toolitems=[('Home', 'Reset original view', 'home', 'home'), ('Back', 'Back to previous …"
      ]
     },
     "metadata": {},
     "output_type": "display_data"
    }
   ],
   "source": [
    "fig, (ax1, ax2) = plt.subplots(1, 2, figsize=(9.5, 5))\n",
    "\n",
    "vis = Visualiser(ax1)\n",
    "vis2 = GoalVisualizer(ax2)\n",
    "\n",
    "fig.suptitle('VISUALIZATION', fontsize=16)\n",
    "\n",
    "plt.subplots_adjust(wspace=0.4)\n",
    "\n",
    "ani = FuncAnimation(fig, vis.update_plot, init_func=vis.plot_init, frames=100, interval=100)\n",
    "ani2 = FuncAnimation(fig, vis2.update_plot, frames=100, interval=100)\n",
    "\n",
    "update_targets_txt(0,0);\n",
    "display(target_txt)"
   ]
  },
  {
   "cell_type": "markdown",
   "id": "79764b6a",
   "metadata": {},
   "source": [
    "## Setting functions for buttons and initialize clients, publishers, and subscribers\n",
    "\n",
    "we set up the event handlers for the buttons and initialize the ROS action client, publisher, and subscriber:\n",
    "\n",
    "- buttonChange.on_click(change_target): Registers the change target button click event.\n",
    "- buttonCancel.on_click(cancel): Registers the cancel target button click event.\n",
    "- buttonSubmit.on_click(on_submit_clicked): Registers the submit button click event.\n",
    "- client: Initializes the action client to communicate with the /reaching_goal action server.\n",
    "- pub: Initializes the publisher to send the latest target to the last_target topic.\n",
    "- sub: Initializes the subscriber to listen to the /odom topic for odometry data."
   ]
  },
  {
   "cell_type": "code",
   "execution_count": 11,
   "id": "2bc6a214",
   "metadata": {},
   "outputs": [],
   "source": [
    "buttonChange.on_click(change_target)\n",
    "buttonCancel.on_click(cancel)\n",
    "buttonSubmit.on_click(on_submit_clicked)\n",
    "\n",
    "client = actionlib.SimpleActionClient('/reaching_goal', PlanningAction)\n",
    "pub = rospy.Publisher('last_target', RobotTarget, queue_size=10)\n",
    "sub = rospy.Subscriber(\"/odom\", Odometry, subscriber_callback)"
   ]
  }
 ],
 "metadata": {
  "kernelspec": {
   "display_name": "Python 3 (ipykernel)",
   "language": "python",
   "name": "python3"
  },
  "language_info": {
   "codemirror_mode": {
    "name": "ipython",
    "version": 3
   },
   "file_extension": ".py",
   "mimetype": "text/x-python",
   "name": "python",
   "nbconvert_exporter": "python",
   "pygments_lexer": "ipython3",
   "version": "3.8.5"
  }
 },
 "nbformat": 4,
 "nbformat_minor": 5
}
